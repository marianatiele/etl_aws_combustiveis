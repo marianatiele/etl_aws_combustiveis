{
  "cells": [
    {
      "cell_type": "markdown",
      "metadata": {
        "id": "view-in-github",
        "colab_type": "text"
      },
      "source": [
        "<a href=\"https://colab.research.google.com/github/marianatiele/etl_aws_combustiveis/blob/main/Notebook_Silver_To_Gold.ipynb\" target=\"_parent\"><img src=\"https://colab.research.google.com/assets/colab-badge.svg\" alt=\"Open In Colab\"/></a>"
      ]
    },
    {
      "cell_type": "markdown",
      "id": "032266b8-f70a-446d-9ed8-74da4645c3f9",
      "metadata": {
        "microsoft": {
          "language": "python",
          "language_group": "synapse_pyspark"
        },
        "nteract": {
          "transient": {
            "deleting": false
          }
        },
        "id": "032266b8-f70a-446d-9ed8-74da4645c3f9"
      },
      "source": [
        "# Silver to Gold"
      ]
    },
    {
      "cell_type": "markdown",
      "source": [
        "## **Baixando o Pyspark**"
      ],
      "metadata": {
        "id": "nB4JesqWFTMm"
      },
      "id": "nB4JesqWFTMm"
    },
    {
      "cell_type": "code",
      "source": [
        "!pip install boto3"
      ],
      "metadata": {
        "id": "0QoQpniFgCEi"
      },
      "id": "0QoQpniFgCEi",
      "execution_count": null,
      "outputs": []
    },
    {
      "cell_type": "code",
      "source": [
        "!pip install findspark"
      ],
      "metadata": {
        "id": "MKwVUE1QFYJO"
      },
      "id": "MKwVUE1QFYJO",
      "execution_count": null,
      "outputs": []
    },
    {
      "cell_type": "code",
      "source": [
        "!pip install pyngrok"
      ],
      "metadata": {
        "id": "VsKovLqvFbzA"
      },
      "id": "VsKovLqvFbzA",
      "execution_count": null,
      "outputs": []
    },
    {
      "cell_type": "code",
      "source": [
        "# instalar o Spark\n",
        "!apt-get update -qq\n",
        "!apt-get install openjdk-8-jdk-headless -qq > /dev/null  # Instalação do Java\n",
        "\n",
        "# Baixar a versão do Spark desejada (Spark 3.5.4 com Hadoop 3)\n",
        "!wget -q https://archive.apache.org/dist/spark/spark-3.5.4/spark-3.5.4-bin-hadoop3.tgz\n",
        "\n",
        "# Extrair os arquivos do Spark\n",
        "!tar xf spark-3.5.4-bin-hadoop3.tgz\n"
      ],
      "metadata": {
        "id": "HYC5uRl1Fg0I"
      },
      "id": "HYC5uRl1Fg0I",
      "execution_count": null,
      "outputs": []
    },
    {
      "cell_type": "markdown",
      "source": [
        "## **Importando as Bibliotecas**"
      ],
      "metadata": {
        "id": "cmspLt73Fofh"
      },
      "id": "cmspLt73Fofh"
    },
    {
      "cell_type": "code",
      "source": [
        "from pyspark.sql import SparkSession\n",
        "from pyspark.sql.functions import *\n",
        "from pyspark.sql.types import *\n",
        "from pyngrok import ngrok\n",
        "import findspark\n",
        "import os\n",
        "import boto3\n",
        "from io import BytesIO"
      ],
      "metadata": {
        "id": "-u9GdYF0FtIK"
      },
      "id": "-u9GdYF0FtIK",
      "execution_count": null,
      "outputs": []
    },
    {
      "cell_type": "code",
      "source": [
        "# configurar as variáveis de ambiente\n",
        "\n",
        "os.environ[\"JAVA_HOME\"] = \"/usr/lib/jvm/java-8-openjdk-amd64\"\n",
        "os.environ[\"SPARK_HOME\"] = \"/content/spark-3.5.4-bin-hadoop3\"\n",
        "\n",
        "aws_access_key_id = \"SEU ACCESS KEY\"\n",
        "aws_secret_access_key = \"SEU SECRET ACCESS KEY\"\n",
        "region_name = \"SUA REGIAO\""
      ],
      "metadata": {
        "id": "xH-TiEtsFuMi"
      },
      "id": "xH-TiEtsFuMi",
      "execution_count": null,
      "outputs": []
    },
    {
      "cell_type": "code",
      "source": [
        "findspark.init()"
      ],
      "metadata": {
        "id": "YPuotX-BF5Ld"
      },
      "id": "YPuotX-BF5Ld",
      "execution_count": null,
      "outputs": []
    },
    {
      "cell_type": "code",
      "source": [
        "#  Iniciando a sessão Spark\n",
        "spark = SparkSession.builder \\\n",
        "    .master('local[*]') \\\n",
        "    .appName(\"Iniciando com Spark\") \\\n",
        "    .config('spark.ui.port', '4050') \\\n",
        "    .getOrCreate()"
      ],
      "metadata": {
        "id": "xPKAD_j_F5yw"
      },
      "id": "xPKAD_j_F5yw",
      "execution_count": null,
      "outputs": []
    },
    {
      "cell_type": "code",
      "source": [
        "boto3.setup_default_session(\n",
        "    aws_access_key_id=aws_access_key_id,\n",
        "    aws_secret_access_key=aws_secret_access_key,\n",
        "    region_name=region_name,\n",
        ")\n",
        "s3 = boto3.client('s3')"
      ],
      "metadata": {
        "id": "UGpoiqRugRmG"
      },
      "id": "UGpoiqRugRmG",
      "execution_count": null,
      "outputs": []
    },
    {
      "cell_type": "code",
      "source": [
        "s3.download_file('datalake-combustiveis-br', 'Bronze/precos-gasolina-etanol-01.csv', 'precos-gasolina-etanol-01.csv')\n",
        "s3.download_file('datalake-combustiveis-br', 'Bronze/precos-gasolina-etanol-02.csv', 'precos-gasolina-etanol-02.csv')\n",
        "s3.download_file('datalake-combustiveis-br', 'Bronze/precos-gasolina-etanol-03.csv', 'precos-gasolina-etanol-03.csv')"
      ],
      "metadata": {
        "id": "q-lu9zIIgeva"
      },
      "id": "q-lu9zIIgeva",
      "execution_count": null,
      "outputs": []
    },
    {
      "cell_type": "code",
      "source": [
        "dados = spark.read.csv('precos-gasolina-etanol-01.csv', header=True, inferSchema=True, sep=';')\n",
        "dados_2 = spark.read.csv('precos-gasolina-etanol-02.csv', header=True, inferSchema=True, sep=';')\n",
        "dados_3 = spark.read.csv('precos-gasolina-etanol-03.csv', header=True, inferSchema=True, sep=';')"
      ],
      "metadata": {
        "id": "JlmeaSeiiWr-"
      },
      "id": "JlmeaSeiiWr-",
      "execution_count": null,
      "outputs": []
    },
    {
      "cell_type": "code",
      "source": [
        "dados.show()"
      ],
      "metadata": {
        "colab": {
          "base_uri": "https://localhost:8080/"
        },
        "id": "W2k38h6qg7Qt",
        "outputId": "5e6d0267-9129-4ce3-bb04-62f5c8588842"
      },
      "id": "W2k38h6qg7Qt",
      "execution_count": null,
      "outputs": [
        {
          "output_type": "stream",
          "name": "stdout",
          "text": [
            "+------+------+---------+--------------------+-------------------+--------------------+------+-----------+--------------------+---------+------------------+-----------+-----------+-------------+--------------+--------+\n",
            "|Regiao|Estado|Municipio|             Revenda|               CNPJ|                Nome|Numero|Complemento|              Bairro|      Cep|           Produto|Data_Coleta|Valor_Venda|Valor_ Compra|Unidade_Medida|Bandeira|\n",
            "+------+------+---------+--------------------+-------------------+--------------------+------+-----------+--------------------+---------+------------------+-----------+-----------+-------------+--------------+--------+\n",
            "|    NE|    CE|   SOBRAL|ECONOGÁS DO BRASI...| 08.775.979/0002-62|RUA TABELIÃO IDEL...|   455|       NULL|              CENTRO|62010-000|          GASOLINA| 01/01/2025|       6,29|         NULL|    R$ / litro|  RAIZEN|\n",
            "|    NE|    CE|   SOBRAL|ECONOGÁS DO BRASI...| 08.775.979/0002-62|RUA TABELIÃO IDEL...|   455|       NULL|              CENTRO|62010-000|GASOLINA ADITIVADA| 01/01/2025|       6,49|         NULL|    R$ / litro|  RAIZEN|\n",
            "|    NE|    CE|   SOBRAL|ECONOGÁS DO BRASI...| 08.775.979/0002-62|RUA TABELIÃO IDEL...|   455|       NULL|              CENTRO|62010-000|            ETANOL| 01/01/2025|       5,19|         NULL|    R$ / litro|  RAIZEN|\n",
            "|    NE|    CE|   SOBRAL|V.C.EMPREENDIMENT...| 03.551.935/0002-35|AVENIDA JOSE EUCL...|    30|POSTO FLASH|    CORACAO DE JESUS|62043-070|          GASOLINA| 01/01/2025|       6,53|         NULL|    R$ / litro|  RAIZEN|\n",
            "|    NE|    CE|   SOBRAL|V.C.EMPREENDIMENT...| 03.551.935/0002-35|AVENIDA JOSE EUCL...|    30|POSTO FLASH|    CORACAO DE JESUS|62043-070|GASOLINA ADITIVADA| 01/01/2025|       6,83|         NULL|    R$ / litro|  RAIZEN|\n",
            "|    NE|    CE|   SOBRAL|V.C.EMPREENDIMENT...| 03.551.935/0002-35|AVENIDA JOSE EUCL...|    30|POSTO FLASH|    CORACAO DE JESUS|62043-070|            ETANOL| 01/01/2025|       5,29|         NULL|    R$ / litro|  RAIZEN|\n",
            "|    NE|    CE|   SOBRAL|CENTER POSTO COME...| 02.905.892/0001-03|AVENIDA JOSE ARIM...|   425|       NULL|   CAMPOS DOS VELHOS|62114-000|          GASOLINA| 01/01/2025|       6,69|         NULL|    R$ / litro|   VIBRA|\n",
            "|    NE|    CE|   SOBRAL|CENTER POSTO COME...| 02.905.892/0001-03|AVENIDA JOSE ARIM...|   425|       NULL|   CAMPOS DOS VELHOS|62114-000|GASOLINA ADITIVADA| 01/01/2025|       6,79|         NULL|    R$ / litro|   VIBRA|\n",
            "|    NE|    CE|   SOBRAL|CENTER POSTO COME...| 02.905.892/0001-03|AVENIDA JOSE ARIM...|   425|       NULL|   CAMPOS DOS VELHOS|62114-000|            ETANOL| 01/01/2025|       5,29|         NULL|    R$ / litro|   VIBRA|\n",
            "|    NE|    CE|   SOBRAL|V.C.EMPREENDIMENT...| 03.551.935/0001-54|AVENIDA MONSENHOR...|    80|   LOJA  01|        DOM EXPEDITO|62050-255|          GASOLINA| 01/01/2025|       6,69|         NULL|    R$ / litro|IPIRANGA|\n",
            "|    NE|    CE|   SOBRAL|V.C.EMPREENDIMENT...| 03.551.935/0001-54|AVENIDA MONSENHOR...|    80|   LOJA  01|        DOM EXPEDITO|62050-255|GASOLINA ADITIVADA| 01/01/2025|       6,69|         NULL|    R$ / litro|IPIRANGA|\n",
            "|    NE|    CE|   SOBRAL|V.C.EMPREENDIMENT...| 03.551.935/0001-54|AVENIDA MONSENHOR...|    80|   LOJA  01|        DOM EXPEDITO|62050-255|            ETANOL| 01/01/2025|       5,29|         NULL|    R$ / litro|IPIRANGA|\n",
            "|    NE|    CE|   SOBRAL|POSTO SAO DOMINGO...| 69.366.128/0001-70|AVENIDA DOUTOR GU...|   854|       NULL|JOCELY DANTAS DE ...|62042-030|          GASOLINA| 01/01/2025|       6,69|         NULL|    R$ / litro|  RAIZEN|\n",
            "|    NE|    CE|   SOBRAL|POSTO SAO DOMINGO...| 69.366.128/0001-70|AVENIDA DOUTOR GU...|   854|       NULL|JOCELY DANTAS DE ...|62042-030|GASOLINA ADITIVADA| 01/01/2025|       6,99|         NULL|    R$ / litro|  RAIZEN|\n",
            "|    NE|    CE|   SOBRAL|POSTO SAO DOMINGO...| 69.366.128/0001-70|AVENIDA DOUTOR GU...|   854|       NULL|JOCELY DANTAS DE ...|62042-030|            ETANOL| 01/01/2025|       5,29|         NULL|    R$ / litro|  RAIZEN|\n",
            "|    NE|    CE|   SOBRAL|POSTO PRINCESA DO...| 01.914.855/0001-90|     RUA MENINO DEUS|   691|       NULL|              CENTRO|62010-310|          GASOLINA| 01/01/2025|       6,64|         NULL|    R$ / litro|IPIRANGA|\n",
            "|    NE|    CE|   SOBRAL|POSTO PRINCESA DO...| 01.914.855/0001-90|     RUA MENINO DEUS|   691|       NULL|              CENTRO|62010-310|GASOLINA ADITIVADA| 01/01/2025|       6,84|         NULL|    R$ / litro|IPIRANGA|\n",
            "|    NE|    CE|   SOBRAL|POSTO PRINCESA DO...| 01.914.855/0001-90|     RUA MENINO DEUS|   691|       NULL|              CENTRO|62010-310|            ETANOL| 01/01/2025|       5,14|         NULL|    R$ / litro|IPIRANGA|\n",
            "|    CO|    DF| BRASILIA|POSTO DAS AGUAS LTDA| 05.351.082/0001-32| QS 08 AVENIDA AG...|     4| TAGUATINGA|            BRASILIA|71974-000|          GASOLINA| 01/01/2025|       6,13|         NULL|    R$ / litro|  RAIZEN|\n",
            "|    CO|    DF| BRASILIA|POSTO DAS AGUAS LTDA| 05.351.082/0001-32| QS 08 AVENIDA AG...|     4| TAGUATINGA|            BRASILIA|71974-000|GASOLINA ADITIVADA| 01/01/2025|       6,73|         NULL|    R$ / litro|  RAIZEN|\n",
            "+------+------+---------+--------------------+-------------------+--------------------+------+-----------+--------------------+---------+------------------+-----------+-----------+-------------+--------------+--------+\n",
            "only showing top 20 rows\n",
            "\n"
          ]
        }
      ]
    },
    {
      "cell_type": "code",
      "source": [
        "dados_2.show()"
      ],
      "metadata": {
        "colab": {
          "base_uri": "https://localhost:8080/"
        },
        "id": "c_J60xkriWV4",
        "outputId": "29d7f4e5-e316-49c8-b5c8-e27109b05039"
      },
      "id": "c_J60xkriWV4",
      "execution_count": null,
      "outputs": [
        {
          "output_type": "stream",
          "name": "stdout",
          "text": [
            "+------+------+---------------+--------------------+-------------------+--------------------+------+-----------+---------------+---------+------------------+-----------+-----------+-------------+--------------+--------+\n",
            "|Regiao|Estado|      Municipio|             Revenda|               CNPJ|                Nome|Numero|Complemento|         Bairro|      Cep|           Produto|Data_Coleta|Valor_Venda|Valor_ Compra|Unidade_Medida|Bandeira|\n",
            "+------+------+---------------+--------------------+-------------------+--------------------+------+-----------+---------------+---------+------------------+-----------+-----------+-------------+--------------+--------+\n",
            "|     N|    AC|CRUZEIRO DO SUL|CARDINAL E OLIVEI...| 03.608.766/0005-75|AVENIDA BOULEVARD...|  1031|       NULL|         CENTRO|69980-000|          GASOLINA| 03/02/2025|       7,27|         NULL|    R$ / litro|   VIBRA|\n",
            "|     N|    AC|CRUZEIRO DO SUL|CARDINAL E OLIVEI...| 03.608.766/0005-75|AVENIDA BOULEVARD...|  1031|       NULL|         CENTRO|69980-000|GASOLINA ADITIVADA| 03/02/2025|       7,73|         NULL|    R$ / litro|   VIBRA|\n",
            "|     N|    AC|CRUZEIRO DO SUL|AMAZONIA COMERCIO...| 01.492.748/0003-83|  AVENIDA COPACABANA|   440|       NULL|     COPACABANA|69980-000|          GASOLINA| 03/02/2025|       7,27|         NULL|    R$ / litro|IPIRANGA|\n",
            "|     N|    AC|CRUZEIRO DO SUL|AMAZONIA COMERCIO...| 01.492.748/0003-83|  AVENIDA COPACABANA|   440|       NULL|     COPACABANA|69980-000|GASOLINA ADITIVADA| 03/02/2025|       7,37|         NULL|    R$ / litro|IPIRANGA|\n",
            "|     N|    AC|CRUZEIRO DO SUL|AMAZONIA COMERCIO...| 01.492.748/0003-83|  AVENIDA COPACABANA|   440|       NULL|     COPACABANA|69980-000|            ETANOL| 03/02/2025|       5,59|         NULL|    R$ / litro|IPIRANGA|\n",
            "|    NE|    AL|      ARAPIRACA|AUTO POSTO MASSAR...| 07.248.398/0001-29|      RODOVIA AL 220|  4698|       NULL|       PLANALTO|57308-000|          GASOLINA| 03/02/2025|       6,18|         NULL|    R$ / litro|  BRANCA|\n",
            "|    NE|    AL|      ARAPIRACA|AUTO POSTO MASSAR...| 07.248.398/0001-29|      RODOVIA AL 220|  4698|       NULL|       PLANALTO|57308-000|GASOLINA ADITIVADA| 03/02/2025|       6,39|         NULL|    R$ / litro|  BRANCA|\n",
            "|    NE|    AL|      ARAPIRACA|AUTO POSTO MASSAR...| 07.248.398/0001-29|      RODOVIA AL 220|  4698|       NULL|       PLANALTO|57308-000|            ETANOL| 03/02/2025|       4,89|         NULL|    R$ / litro|  BRANCA|\n",
            "|    NE|    AL|      ARAPIRACA|AUTO POSTO SAO FR...| 12.706.529/0001-04|   RUA SAO FRANCISCO|   274|       NULL|         CENTRO|57300-080|          GASOLINA| 03/02/2025|       6,03|         NULL|    R$ / litro|   VIBRA|\n",
            "|    NE|    AL|      ARAPIRACA|AUTO POSTO SAO FR...| 12.706.529/0001-04|   RUA SAO FRANCISCO|   274|       NULL|         CENTRO|57300-080|            ETANOL| 03/02/2025|       4,59|         NULL|    R$ / litro|   VIBRA|\n",
            "|    NE|    AL|      ARAPIRACA|POSTO E HOTEL DI'...| 24.313.645/0001-42|AVENIDA ANTONIO S...|   406|       NULL|JARDIM TROPICAL|57304-820|          GASOLINA| 03/02/2025|       6,39|         NULL|    R$ / litro|   VIBRA|\n",
            "|    NE|    AL|      ARAPIRACA|DISTRIBUIDORA DE ...| 12.396.339/0001-38|RUA QUINZE DE NOV...|   451|       NULL|       BRASILIA|57313-015|          GASOLINA| 03/02/2025|       6,29|         NULL|    R$ / litro|  RAIZEN|\n",
            "|    NE|    AL|      ARAPIRACA|DISTRIBUIDORA DE ...| 12.396.339/0001-38|RUA QUINZE DE NOV...|   451|       NULL|       BRASILIA|57313-015|GASOLINA ADITIVADA| 03/02/2025|       6,59|         NULL|    R$ / litro|  RAIZEN|\n",
            "|    NE|    AL|      ARAPIRACA|DISTRIBUIDORA DE ...| 12.396.339/0001-38|RUA QUINZE DE NOV...|   451|       NULL|       BRASILIA|57313-015|            ETANOL| 03/02/2025|       4,89|         NULL|    R$ / litro|  RAIZEN|\n",
            "|    NE|    AL|      ARAPIRACA|IBN PINTO E SILVA...| 01.242.690/0001-58|      RODOVIA AL-110|   678|   KM    70|    CANAFISTULA|57302-802|          GASOLINA| 03/02/2025|       6,59|         NULL|    R$ / litro|  BRANCA|\n",
            "|    NE|    AL|      ARAPIRACA|IBN PINTO E SILVA...| 01.242.690/0001-58|      RODOVIA AL-110|   678|   KM    70|    CANAFISTULA|57302-802|GASOLINA ADITIVADA| 03/02/2025|       6,69|         NULL|    R$ / litro|  BRANCA|\n",
            "|    NE|    AL|      ARAPIRACA|IBN PINTO E SILVA...| 01.242.690/0001-58|      RODOVIA AL-110|   678|   KM    70|    CANAFISTULA|57302-802|            ETANOL| 03/02/2025|       4,99|         NULL|    R$ / litro|  BRANCA|\n",
            "|    NE|    AL|DELMIRO GOUVEIA|AUTO POSTO FREITA...| 12.436.978/0001-80|RUA FLORIANO PEIXOTO|   247|       NULL|         CENTRO|57480-000|          GASOLINA| 03/02/2025|       7,19|         NULL|    R$ / litro|   VIBRA|\n",
            "|    NE|    AL|DELMIRO GOUVEIA|AUTO POSTO FREITA...| 12.436.978/0001-80|RUA FLORIANO PEIXOTO|   247|       NULL|         CENTRO|57480-000|GASOLINA ADITIVADA| 03/02/2025|       7,23|         NULL|    R$ / litro|   VIBRA|\n",
            "|    NE|    AL|DELMIRO GOUVEIA|AUTO POSTO DA PED...| 05.518.639/0001-87|RUA FLORIANO PEIXOTO|   281|       NULL|         CENTRO|57480-000|          GASOLINA| 03/02/2025|       6,94|         NULL|    R$ / litro|   VIBRA|\n",
            "+------+------+---------------+--------------------+-------------------+--------------------+------+-----------+---------------+---------+------------------+-----------+-----------+-------------+--------------+--------+\n",
            "only showing top 20 rows\n",
            "\n"
          ]
        }
      ]
    },
    {
      "cell_type": "code",
      "source": [
        "dados_3.show()"
      ],
      "metadata": {
        "colab": {
          "base_uri": "https://localhost:8080/"
        },
        "id": "rHbQEm1Diw7p",
        "outputId": "a009eaf9-7b5a-4c95-f8ee-4a9652ea5735"
      },
      "id": "rHbQEm1Diw7p",
      "execution_count": null,
      "outputs": [
        {
          "output_type": "stream",
          "name": "stdout",
          "text": [
            "+------+------+---------------+--------------------+-------------------+--------------------+------+-----------+---------------+---------+------------------+-----------+-----------+-------------+--------------+--------+\n",
            "|Regiao|Estado|      Municipio|             Revenda|               CNPJ|                Nome|Numero|Complemento|         Bairro|      Cep|           Produto|Data_Coleta|Valor_Venda|Valor_ Compra|Unidade_Medida|Bandeira|\n",
            "+------+------+---------------+--------------------+-------------------+--------------------+------+-----------+---------------+---------+------------------+-----------+-----------+-------------+--------------+--------+\n",
            "|    SE|    SP|       SOROCABA|COMPETRO COMERCIO...| 00.003.188/0001-21|RUA HUMBERTO DE C...|   306|       NULL| JARDIM ZULMIRA|18061-000|          GASOLINA| 03/03/2025|       5,65|         NULL|    R$ / litro|  BRANCA|\n",
            "|    SE|    SP|       SOROCABA|COMPETRO COMERCIO...| 00.003.188/0001-21|RUA HUMBERTO DE C...|   306|       NULL| JARDIM ZULMIRA|18061-000|            ETANOL| 03/03/2025|       3,78|         NULL|    R$ / litro|  BRANCA|\n",
            "|    NE|    AL|      ARAPIRACA|AUTO POSTO M M GA...| 08.738.994/0001-50|      RODOVIA AL-220|  5848|   KM    96|    BOM SUCESSO|57309-035|          GASOLINA| 03/03/2025|       6,49|         NULL|    R$ / litro|   VIBRA|\n",
            "|    NE|    AL|      ARAPIRACA|AUTO POSTO M M GA...| 08.738.994/0001-50|      RODOVIA AL-220|  5848|   KM    96|    BOM SUCESSO|57309-035|            ETANOL| 03/03/2025|       4,99|         NULL|    R$ / litro|   VIBRA|\n",
            "|    NE|    AL|      ARAPIRACA|AUTO POSTO MASSAR...| 07.248.398/0001-29|      RODOVIA AL 220|  4698|       NULL|       PLANALTO|57308-000|          GASOLINA| 03/03/2025|       6,49|         NULL|    R$ / litro|  BRANCA|\n",
            "|    NE|    AL|      ARAPIRACA|AUTO POSTO MASSAR...| 07.248.398/0001-29|      RODOVIA AL 220|  4698|       NULL|       PLANALTO|57308-000|GASOLINA ADITIVADA| 03/03/2025|       6,59|         NULL|    R$ / litro|  BRANCA|\n",
            "|    NE|    AL|      ARAPIRACA|AUTO POSTO MASSAR...| 07.248.398/0001-29|      RODOVIA AL 220|  4698|       NULL|       PLANALTO|57308-000|            ETANOL| 03/03/2025|       4,98|         NULL|    R$ / litro|  BRANCA|\n",
            "|    NE|    AL|      ARAPIRACA|AUTO POSTO SAO FR...| 12.706.529/0001-04|   RUA SAO FRANCISCO|   274|       NULL|         CENTRO|57300-080|          GASOLINA| 03/03/2025|       6,29|         NULL|    R$ / litro|   VIBRA|\n",
            "|    NE|    AL|      ARAPIRACA|AUTO POSTO SAO FR...| 12.706.529/0001-04|   RUA SAO FRANCISCO|   274|       NULL|         CENTRO|57300-080|            ETANOL| 03/03/2025|       4,79|         NULL|    R$ / litro|   VIBRA|\n",
            "|    NE|    AL|      ARAPIRACA|POSTO E HOTEL DI'...| 24.313.645/0001-42|AVENIDA ANTONIO S...|   406|       NULL|JARDIM TROPICAL|57304-820|          GASOLINA| 03/03/2025|       6,39|         NULL|    R$ / litro|   VIBRA|\n",
            "|    NE|    AL|      ARAPIRACA|IBN PINTO E SILVA...| 01.242.690/0001-58|      RODOVIA AL-110|   678|   KM    70|    CANAFISTULA|57302-802|          GASOLINA| 03/03/2025|       6,59|         NULL|    R$ / litro|  BRANCA|\n",
            "|    NE|    AL|      ARAPIRACA|IBN PINTO E SILVA...| 01.242.690/0001-58|      RODOVIA AL-110|   678|   KM    70|    CANAFISTULA|57302-802|GASOLINA ADITIVADA| 03/03/2025|       6,69|         NULL|    R$ / litro|  BRANCA|\n",
            "|    NE|    AL|      ARAPIRACA|IBN PINTO E SILVA...| 01.242.690/0001-58|      RODOVIA AL-110|   678|   KM    70|    CANAFISTULA|57302-802|            ETANOL| 03/03/2025|       4,99|         NULL|    R$ / litro|  BRANCA|\n",
            "|    NE|    AL|DELMIRO GOUVEIA|AUTO POSTO FREITA...| 12.436.978/0001-80|RUA FLORIANO PEIXOTO|   247|       NULL|         CENTRO|57480-000|          GASOLINA| 03/03/2025|       7,19|         NULL|    R$ / litro|   VIBRA|\n",
            "|    NE|    AL|DELMIRO GOUVEIA|AUTO POSTO FREITA...| 12.436.978/0001-80|RUA FLORIANO PEIXOTO|   247|       NULL|         CENTRO|57480-000|GASOLINA ADITIVADA| 03/03/2025|       7,23|         NULL|    R$ / litro|   VIBRA|\n",
            "|    NE|    AL|DELMIRO GOUVEIA|AUTO POSTO DA PED...| 05.518.639/0001-87|RUA FLORIANO PEIXOTO|   281|       NULL|         CENTRO|57480-000|          GASOLINA| 03/03/2025|       7,19|         NULL|    R$ / litro|   VIBRA|\n",
            "|    NE|    AL|DELMIRO GOUVEIA|AUTO POSTO DA PED...| 05.518.639/0001-87|RUA FLORIANO PEIXOTO|   281|       NULL|         CENTRO|57480-000|            ETANOL| 03/03/2025|       5,12|         NULL|    R$ / litro|   VIBRA|\n",
            "|    NE|    AL|DELMIRO GOUVEIA|COMERCIO DE COMBU...| 04.431.113/0001-00|     AVENIDA CAXANGA|   126|       NULL|    PEDRA VELHA|57480-000|          GASOLINA| 03/03/2025|       7,15|         NULL|    R$ / litro|  BRANCA|\n",
            "|    NE|    AL|DELMIRO GOUVEIA|COMERCIO DE COMBU...| 04.431.113/0001-00|     AVENIDA CAXANGA|   126|       NULL|    PEDRA VELHA|57480-000|GASOLINA ADITIVADA| 03/03/2025|       7,15|         NULL|    R$ / litro|  BRANCA|\n",
            "|    NE|    AL|DELMIRO GOUVEIA|COMERCIO DE COMBU...| 04.431.113/0001-00|     AVENIDA CAXANGA|   126|       NULL|    PEDRA VELHA|57480-000|            ETANOL| 03/03/2025|       5,08|         NULL|    R$ / litro|  BRANCA|\n",
            "+------+------+---------------+--------------------+-------------------+--------------------+------+-----------+---------------+---------+------------------+-----------+-----------+-------------+--------------+--------+\n",
            "only showing top 20 rows\n",
            "\n"
          ]
        }
      ]
    },
    {
      "cell_type": "code",
      "execution_count": null,
      "id": "23650cb9-48da-47fa-9318-95d4213d2a84",
      "metadata": {
        "microsoft": {
          "language": "python",
          "language_group": "synapse_pyspark"
        },
        "id": "23650cb9-48da-47fa-9318-95d4213d2a84",
        "colab": {
          "base_uri": "https://localhost:8080/"
        },
        "outputId": "5d19d3f2-727f-45ce-eebe-940cb3dd5f02"
      },
      "outputs": [
        {
          "output_type": "execute_result",
          "data": {
            "text/plain": [
              "(16, 16, 16)"
            ]
          },
          "metadata": {},
          "execution_count": 15
        }
      ],
      "source": [
        "len(dados.columns), len(dados_2.columns), len(dados_3.columns)"
      ]
    },
    {
      "cell_type": "markdown",
      "id": "0dc36336-6ac1-4f24-bee7-04b90c829e5b",
      "metadata": {
        "microsoft": {
          "language": "python",
          "language_group": "synapse_pyspark"
        },
        "nteract": {
          "transient": {
            "deleting": false
          }
        },
        "id": "0dc36336-6ac1-4f24-bee7-04b90c829e5b"
      },
      "source": [
        "# Tratamento dos dados"
      ]
    },
    {
      "cell_type": "code",
      "execution_count": null,
      "id": "fc116fde-d391-460f-9fba-879e08917a00",
      "metadata": {
        "microsoft": {
          "language": "python",
          "language_group": "synapse_pyspark"
        },
        "id": "fc116fde-d391-460f-9fba-879e08917a00"
      },
      "outputs": [],
      "source": [
        "dados = dados.withColumnRenamed('Valor_ Compra', 'Valor_Compra')"
      ]
    },
    {
      "cell_type": "code",
      "execution_count": null,
      "id": "69aac164-45a0-41f0-a333-2d251b6dbbbe",
      "metadata": {
        "microsoft": {
          "language": "python",
          "language_group": "synapse_pyspark"
        },
        "id": "69aac164-45a0-41f0-a333-2d251b6dbbbe",
        "colab": {
          "base_uri": "https://localhost:8080/",
          "height": 35
        },
        "outputId": "292f08ac-aa1d-4f70-ddab-b074e44a8fc0"
      },
      "outputs": [
        {
          "output_type": "execute_result",
          "data": {
            "text/plain": [
              "'Valor_Compra'"
            ],
            "application/vnd.google.colaboratory.intrinsic+json": {
              "type": "string"
            }
          },
          "metadata": {},
          "execution_count": 17
        }
      ],
      "source": [
        "colunas = dados.columns\n",
        "colunas[13]"
      ]
    },
    {
      "cell_type": "code",
      "execution_count": null,
      "id": "3353c7fd-dde2-4823-8726-8cbf12febabe",
      "metadata": {
        "microsoft": {
          "language": "python",
          "language_group": "synapse_pyspark"
        },
        "id": "3353c7fd-dde2-4823-8726-8cbf12febabe"
      },
      "outputs": [],
      "source": [
        "dados_2 = (dados_2.withColumnRenamed('Regiao - Sigla', colunas[0])\n",
        "    .withColumnRenamed('Estado - Sigla', colunas[1])\n",
        "    .withColumnRenamed('CNPJ da Revenda', colunas[4])\n",
        "    .withColumnRenamed('Nome da Rua', colunas[5])\n",
        "    .withColumnRenamed('Numero Rua', colunas[6])\n",
        "    .withColumnRenamed('Data da Coleta', colunas[11])\n",
        "    .withColumnRenamed('Valor de Venda', colunas[12])\n",
        "    .withColumnRenamed('Valor de Compra', colunas[13])\n",
        "    .withColumnRenamed('Unidade de Medida', colunas[14])\n",
        ")\n",
        "\n"
      ]
    },
    {
      "cell_type": "code",
      "execution_count": null,
      "id": "60dda876-1801-4f3a-ba05-38f7eeca53d5",
      "metadata": {
        "microsoft": {
          "language": "python",
          "language_group": "synapse_pyspark"
        },
        "id": "60dda876-1801-4f3a-ba05-38f7eeca53d5"
      },
      "outputs": [],
      "source": [
        "dados_3 = (dados_3.withColumnRenamed('Regiao - Sigla', colunas[0])\n",
        "    .withColumnRenamed('Estado - Sigla', colunas[1])\n",
        "    .withColumnRenamed('CNPJ da Revenda', colunas[4])\n",
        "    .withColumnRenamed('Nome da Rua', colunas[5])\n",
        "    .withColumnRenamed('Numero Rua', colunas[6])\n",
        "    .withColumnRenamed('Data da Coleta', colunas[11])\n",
        "    .withColumnRenamed('Valor de Venda', colunas[12])\n",
        "    .withColumnRenamed('Valor de Compra', colunas[13])\n",
        "    .withColumnRenamed('Unidade de Medida', colunas[14])\n",
        ")"
      ]
    },
    {
      "cell_type": "code",
      "execution_count": null,
      "id": "da259b93-a519-49fb-9c9b-579204577345",
      "metadata": {
        "microsoft": {
          "language": "python",
          "language_group": "synapse_pyspark"
        },
        "id": "da259b93-a519-49fb-9c9b-579204577345"
      },
      "outputs": [],
      "source": [
        "# Decimal tipo americano\n",
        "dados = dados.withColumn(\"Valor_Venda\", regexp_replace(col(\"Valor_Venda\"), \",\", \".\").cast(\"float\"))\n",
        "dados_2 = dados_2.withColumn(\"Valor_Venda\", regexp_replace(col(\"Valor_Venda\"), \",\", \".\").cast(\"float\"))\n",
        "dados_3 = dados_3.withColumn(\"Valor_Venda\", regexp_replace(col(\"Valor_Venda\"), \",\", \".\").cast(\"float\"))\n",
        "\n",
        "dados = dados.withColumn(\"Numero\", regexp_replace(col(\"Numero\"), \" \", \"S/N\"))\n",
        "dados_2 = dados_2.withColumn(\"Numero\", regexp_replace(col(\"Numero\"), \" \", \"S/N\"))\n",
        "dados_3 = dados_3.withColumn(\"Numero\", regexp_replace(col(\"Numero\"), \" \", \"S/N\"))\n"
      ]
    },
    {
      "cell_type": "code",
      "execution_count": null,
      "id": "440c2f46-0a63-4c29-a84c-fbc212bc308b",
      "metadata": {
        "microsoft": {
          "language": "python",
          "language_group": "synapse_pyspark"
        },
        "id": "440c2f46-0a63-4c29-a84c-fbc212bc308b"
      },
      "outputs": [],
      "source": [
        "# Apagar coluna inteira null\n",
        "dados = dados.drop('Valor_Compra')\n",
        "dados_2 = dados_2.drop('Valor_Compra')\n",
        "dados_3 = dados_3.drop('Valor_ Compra')\n",
        "\n",
        "dados = dados.drop('Complemento')\n",
        "dados_2 = dados_2.drop('Complemento')\n",
        "dados_3 = dados_3.drop('Complemento')"
      ]
    },
    {
      "cell_type": "code",
      "source": [
        "dados.show(2)"
      ],
      "metadata": {
        "colab": {
          "base_uri": "https://localhost:8080/"
        },
        "id": "FojJOyUjDrpR",
        "outputId": "1fcd7f98-b0d9-4c60-a561-75bc1ff35cc6"
      },
      "id": "FojJOyUjDrpR",
      "execution_count": null,
      "outputs": [
        {
          "output_type": "stream",
          "name": "stdout",
          "text": [
            "+------+------+---------+--------------------+-------------------+--------------------+------+------+---------+------------------+-----------+-----------+--------------+--------+\n",
            "|Regiao|Estado|Municipio|             Revenda|               CNPJ|                Nome|Numero|Bairro|      Cep|           Produto|Data_Coleta|Valor_Venda|Unidade_Medida|Bandeira|\n",
            "+------+------+---------+--------------------+-------------------+--------------------+------+------+---------+------------------+-----------+-----------+--------------+--------+\n",
            "|    NE|    CE|   SOBRAL|ECONOGÁS DO BRASI...| 08.775.979/0002-62|RUA TABELIÃO IDEL...|   455|CENTRO|62010-000|          GASOLINA| 01/01/2025|       6.29|    R$ / litro|  RAIZEN|\n",
            "|    NE|    CE|   SOBRAL|ECONOGÁS DO BRASI...| 08.775.979/0002-62|RUA TABELIÃO IDEL...|   455|CENTRO|62010-000|GASOLINA ADITIVADA| 01/01/2025|       6.49|    R$ / litro|  RAIZEN|\n",
            "+------+------+---------+--------------------+-------------------+--------------------+------+------+---------+------------------+-----------+-----------+--------------+--------+\n",
            "only showing top 2 rows\n",
            "\n"
          ]
        }
      ]
    },
    {
      "cell_type": "code",
      "source": [
        "dados_2.show(2)"
      ],
      "metadata": {
        "colab": {
          "base_uri": "https://localhost:8080/"
        },
        "id": "t806XHuRDvlr",
        "outputId": "55548755-bab6-4b0d-9e9c-3f1d24b3d8cd"
      },
      "id": "t806XHuRDvlr",
      "execution_count": null,
      "outputs": [
        {
          "output_type": "stream",
          "name": "stdout",
          "text": [
            "+------+------+---------------+--------------------+-------------------+--------------------+------+------+---------+------------------+-----------+-----------+-------------+--------------+--------+\n",
            "|Regiao|Estado|      Municipio|             Revenda|               CNPJ|                Nome|Numero|Bairro|      Cep|           Produto|Data_Coleta|Valor_Venda|Valor_ Compra|Unidade_Medida|Bandeira|\n",
            "+------+------+---------------+--------------------+-------------------+--------------------+------+------+---------+------------------+-----------+-----------+-------------+--------------+--------+\n",
            "|     N|    AC|CRUZEIRO DO SUL|CARDINAL E OLIVEI...| 03.608.766/0005-75|AVENIDA BOULEVARD...|  1031|CENTRO|69980-000|          GASOLINA| 03/02/2025|       7.27|         NULL|    R$ / litro|   VIBRA|\n",
            "|     N|    AC|CRUZEIRO DO SUL|CARDINAL E OLIVEI...| 03.608.766/0005-75|AVENIDA BOULEVARD...|  1031|CENTRO|69980-000|GASOLINA ADITIVADA| 03/02/2025|       7.73|         NULL|    R$ / litro|   VIBRA|\n",
            "+------+------+---------------+--------------------+-------------------+--------------------+------+------+---------+------------------+-----------+-----------+-------------+--------------+--------+\n",
            "only showing top 2 rows\n",
            "\n"
          ]
        }
      ]
    },
    {
      "cell_type": "code",
      "source": [
        "dados.show(2)"
      ],
      "metadata": {
        "colab": {
          "base_uri": "https://localhost:8080/"
        },
        "id": "AVH4yBylD3wZ",
        "outputId": "c539b8fa-10d3-4b8f-899d-d8910af12bf4"
      },
      "id": "AVH4yBylD3wZ",
      "execution_count": null,
      "outputs": [
        {
          "output_type": "stream",
          "name": "stdout",
          "text": [
            "+------+------+---------+--------------------+-------------------+--------------------+------+------+---------+------------------+-----------+-----------+--------------+--------+\n",
            "|Regiao|Estado|Municipio|             Revenda|               CNPJ|                Nome|Numero|Bairro|      Cep|           Produto|Data_Coleta|Valor_Venda|Unidade_Medida|Bandeira|\n",
            "+------+------+---------+--------------------+-------------------+--------------------+------+------+---------+------------------+-----------+-----------+--------------+--------+\n",
            "|    NE|    CE|   SOBRAL|ECONOGÁS DO BRASI...| 08.775.979/0002-62|RUA TABELIÃO IDEL...|   455|CENTRO|62010-000|          GASOLINA| 01/01/2025|       6.29|    R$ / litro|  RAIZEN|\n",
            "|    NE|    CE|   SOBRAL|ECONOGÁS DO BRASI...| 08.775.979/0002-62|RUA TABELIÃO IDEL...|   455|CENTRO|62010-000|GASOLINA ADITIVADA| 01/01/2025|       6.49|    R$ / litro|  RAIZEN|\n",
            "+------+------+---------+--------------------+-------------------+--------------------+------+------+---------+------------------+-----------+-----------+--------------+--------+\n",
            "only showing top 2 rows\n",
            "\n"
          ]
        }
      ]
    },
    {
      "cell_type": "code",
      "execution_count": null,
      "id": "e44508a9-8de5-4d42-8fd4-5cd35e6fad71",
      "metadata": {
        "microsoft": {
          "language": "python",
          "language_group": "synapse_pyspark"
        },
        "id": "e44508a9-8de5-4d42-8fd4-5cd35e6fad71",
        "colab": {
          "base_uri": "https://localhost:8080/"
        },
        "outputId": "e29565fc-2259-4be4-b17e-848fd3c797fe"
      },
      "outputs": [
        {
          "output_type": "stream",
          "name": "stdout",
          "text": [
            "+-------------+\n",
            "|count(Numero)|\n",
            "+-------------+\n",
            "|        46491|\n",
            "+-------------+\n",
            "\n"
          ]
        }
      ],
      "source": [
        "dados.select(count(col('Numero'))).distinct().show()"
      ]
    },
    {
      "cell_type": "code",
      "execution_count": null,
      "id": "3e76c13a-4f3b-4533-b5c2-4d4a79359ee1",
      "metadata": {
        "microsoft": {
          "language": "python",
          "language_group": "synapse_pyspark"
        },
        "id": "3e76c13a-4f3b-4533-b5c2-4d4a79359ee1",
        "colab": {
          "base_uri": "https://localhost:8080/"
        },
        "outputId": "53cea4d3-bce5-404f-decd-ed7e035319d3"
      },
      "outputs": [
        {
          "output_type": "stream",
          "name": "stdout",
          "text": [
            "+------+--------------------+\n",
            "|Numero|              Bairro|\n",
            "+------+--------------------+\n",
            "|   S/N|          INDUSTRIAL|\n",
            "|   S/N|          INDUSTRIAL|\n",
            "|   S/N|            IBITIOCA|\n",
            "|   S/N|            IBITIOCA|\n",
            "|   S/N|CHAC. REUN. IGARAPES|\n",
            "|   S/N|CHAC. REUN. IGARAPES|\n",
            "|   S/N|CHAC. REUN. IGARAPES|\n",
            "|   S/N|          ZONA RURAL|\n",
            "|   S/N|          ZONA RURAL|\n",
            "|   S/N|            IBITIOCA|\n",
            "|   S/N|            IBITIOCA|\n",
            "|   S/N|            IBITIOCA|\n",
            "|   S/N|   TORRAO DE OURO II|\n",
            "|   S/N|   TORRAO DE OURO II|\n",
            "|   S/N|   TORRAO DE OURO II|\n",
            "|   S/N| DISTRITO INDUSTRIAL|\n",
            "|   S/N| DISTRITO INDUSTRIAL|\n",
            "|   S/N| DISTRITO INDUSTRIAL|\n",
            "|   S/N|                SEDE|\n",
            "|   S/N|                SEDE|\n",
            "+------+--------------------+\n",
            "only showing top 20 rows\n",
            "\n"
          ]
        }
      ],
      "source": [
        "dados.select('Numero', 'Bairro').where(dados.Numero == 'S/N').show()"
      ]
    },
    {
      "cell_type": "code",
      "execution_count": null,
      "id": "7aca72dd-1e90-4c3d-8a90-97a5f3c3449a",
      "metadata": {
        "jupyter": {
          "outputs_hidden": false
        },
        "microsoft": {
          "language": "python",
          "language_group": "synapse_pyspark"
        },
        "id": "7aca72dd-1e90-4c3d-8a90-97a5f3c3449a",
        "colab": {
          "base_uri": "https://localhost:8080/"
        },
        "outputId": "db27ce44-185f-442b-bf8a-de9cc89c501a"
      },
      "outputs": [
        {
          "output_type": "stream",
          "name": "stdout",
          "text": [
            "+------+------+---------+--------------------+-------------------+--------------------+------+------+---------+------------------+-----------+-----------+--------------+--------+\n",
            "|Regiao|Estado|Municipio|             Revenda|               CNPJ|                Nome|Numero|Bairro|      Cep|           Produto|Data_Coleta|Valor_Venda|Unidade_Medida|Bandeira|\n",
            "+------+------+---------+--------------------+-------------------+--------------------+------+------+---------+------------------+-----------+-----------+--------------+--------+\n",
            "|    NE|    CE|   SOBRAL|ECONOGÁS DO BRASI...| 08.775.979/0002-62|RUA TABELIÃO IDEL...|   455|CENTRO|62010-000|          GASOLINA| 01/01/2025|       6.29|    R$ / litro|  RAIZEN|\n",
            "|    NE|    CE|   SOBRAL|ECONOGÁS DO BRASI...| 08.775.979/0002-62|RUA TABELIÃO IDEL...|   455|CENTRO|62010-000|GASOLINA ADITIVADA| 01/01/2025|       6.49|    R$ / litro|  RAIZEN|\n",
            "+------+------+---------+--------------------+-------------------+--------------------+------+------+---------+------------------+-----------+-----------+--------------+--------+\n",
            "only showing top 2 rows\n",
            "\n"
          ]
        }
      ],
      "source": [
        "dados.show(2)"
      ]
    },
    {
      "cell_type": "code",
      "execution_count": null,
      "id": "63626359-bfb0-4575-ab9e-6c20dac424f2",
      "metadata": {
        "microsoft": {
          "language": "python",
          "language_group": "synapse_pyspark"
        },
        "id": "63626359-bfb0-4575-ab9e-6c20dac424f2",
        "colab": {
          "base_uri": "https://localhost:8080/"
        },
        "outputId": "991b99b8-54e7-4def-f4cd-377972b51b23"
      },
      "outputs": [
        {
          "output_type": "stream",
          "name": "stdout",
          "text": [
            "root\n",
            " |-- Regiao: string (nullable = true)\n",
            " |-- Estado: string (nullable = true)\n",
            " |-- Municipio: string (nullable = true)\n",
            " |-- Revenda: string (nullable = true)\n",
            " |-- CNPJ: string (nullable = true)\n",
            " |-- Nome: string (nullable = true)\n",
            " |-- Numero: string (nullable = true)\n",
            " |-- Bairro: string (nullable = true)\n",
            " |-- Cep: string (nullable = true)\n",
            " |-- Produto: string (nullable = true)\n",
            " |-- Data_Coleta: string (nullable = true)\n",
            " |-- Valor_Venda: float (nullable = true)\n",
            " |-- Unidade_Medida: string (nullable = true)\n",
            " |-- Bandeira: string (nullable = true)\n",
            "\n"
          ]
        }
      ],
      "source": [
        "dados_3.printSchema()"
      ]
    },
    {
      "cell_type": "code",
      "execution_count": null,
      "id": "8bc2f17f-c827-4c81-96cc-93f1752c051b",
      "metadata": {
        "microsoft": {
          "language": "python",
          "language_group": "synapse_pyspark"
        },
        "id": "8bc2f17f-c827-4c81-96cc-93f1752c051b"
      },
      "outputs": [],
      "source": [
        "# dados.select(\"Data_Coleta\").distinct().show(truncate=False)"
      ]
    },
    {
      "cell_type": "code",
      "execution_count": null,
      "id": "c3dca16f-1777-46a7-8928-cb1c890a15bf",
      "metadata": {
        "microsoft": {
          "language": "python",
          "language_group": "synapse_pyspark"
        },
        "id": "c3dca16f-1777-46a7-8928-cb1c890a15bf"
      },
      "outputs": [],
      "source": [
        "dados  =  (\n",
        "    dados.withColumn('Data_Coleta', to_date(col('Data_Coleta'), \"dd/MM/yyyy\"))\n",
        "    .withColumn('Valor_Venda', col('Valor_Venda').cast('decimal(5,2)'))\n",
        "    )\n"
      ]
    },
    {
      "cell_type": "code",
      "execution_count": null,
      "id": "42e014d4-f109-487a-95cc-23919e35bb27",
      "metadata": {
        "jupyter": {
          "outputs_hidden": false
        },
        "microsoft": {
          "language": "python",
          "language_group": "synapse_pyspark"
        },
        "id": "42e014d4-f109-487a-95cc-23919e35bb27",
        "colab": {
          "base_uri": "https://localhost:8080/"
        },
        "outputId": "dfe73aed-065e-4453-93cc-c5efb3a81bb0"
      },
      "outputs": [
        {
          "output_type": "stream",
          "name": "stdout",
          "text": [
            "+------+------+---------+--------------------+-------------------+--------------------+------+------+---------+------------------+-----------+-----------+--------------+--------+\n",
            "|Regiao|Estado|Municipio|             Revenda|               CNPJ|                Nome|Numero|Bairro|      Cep|           Produto|Data_Coleta|Valor_Venda|Unidade_Medida|Bandeira|\n",
            "+------+------+---------+--------------------+-------------------+--------------------+------+------+---------+------------------+-----------+-----------+--------------+--------+\n",
            "|    NE|    CE|   SOBRAL|ECONOGÁS DO BRASI...| 08.775.979/0002-62|RUA TABELIÃO IDEL...|   455|CENTRO|62010-000|          GASOLINA| 2025-01-01|       6.29|    R$ / litro|  RAIZEN|\n",
            "|    NE|    CE|   SOBRAL|ECONOGÁS DO BRASI...| 08.775.979/0002-62|RUA TABELIÃO IDEL...|   455|CENTRO|62010-000|GASOLINA ADITIVADA| 2025-01-01|       6.49|    R$ / litro|  RAIZEN|\n",
            "+------+------+---------+--------------------+-------------------+--------------------+------+------+---------+------------------+-----------+-----------+--------------+--------+\n",
            "only showing top 2 rows\n",
            "\n"
          ]
        }
      ],
      "source": [
        "dados.show(2)"
      ]
    },
    {
      "cell_type": "code",
      "execution_count": null,
      "id": "0bea3c81-c982-4907-976a-0e6059aaa504",
      "metadata": {
        "microsoft": {
          "language": "python",
          "language_group": "synapse_pyspark"
        },
        "id": "0bea3c81-c982-4907-976a-0e6059aaa504",
        "colab": {
          "base_uri": "https://localhost:8080/"
        },
        "outputId": "4ab22c57-0ae6-4d72-bd97-e997bcb218f6"
      },
      "outputs": [
        {
          "output_type": "stream",
          "name": "stdout",
          "text": [
            "root\n",
            " |-- Regiao: string (nullable = true)\n",
            " |-- Estado: string (nullable = true)\n",
            " |-- Municipio: string (nullable = true)\n",
            " |-- Revenda: string (nullable = true)\n",
            " |-- CNPJ: string (nullable = true)\n",
            " |-- Nome: string (nullable = true)\n",
            " |-- Numero: string (nullable = true)\n",
            " |-- Bairro: string (nullable = true)\n",
            " |-- Cep: string (nullable = true)\n",
            " |-- Produto: string (nullable = true)\n",
            " |-- Data_Coleta: date (nullable = true)\n",
            " |-- Valor_Venda: decimal(5,2) (nullable = true)\n",
            " |-- Unidade_Medida: string (nullable = true)\n",
            " |-- Bandeira: string (nullable = true)\n",
            "\n"
          ]
        }
      ],
      "source": [
        "dados.printSchema()"
      ]
    },
    {
      "cell_type": "code",
      "execution_count": null,
      "id": "8904cbef-1606-4bd5-a4cc-4915615c4b94",
      "metadata": {
        "microsoft": {
          "language": "python",
          "language_group": "synapse_pyspark"
        },
        "id": "8904cbef-1606-4bd5-a4cc-4915615c4b94"
      },
      "outputs": [],
      "source": [
        "dados_2  =  (\n",
        "    dados_2.withColumn('Data_Coleta', to_date(col('Data_Coleta'), \"dd/MM/yyyy\"))\n",
        "    .withColumn('Valor_Venda', col('Valor_Venda').cast('decimal(5,2)'))\n",
        "    )"
      ]
    },
    {
      "cell_type": "code",
      "execution_count": null,
      "id": "06e96b1d-2b26-422f-afc8-e6e6a77807f1",
      "metadata": {
        "microsoft": {
          "language": "python",
          "language_group": "synapse_pyspark"
        },
        "id": "06e96b1d-2b26-422f-afc8-e6e6a77807f1"
      },
      "outputs": [],
      "source": [
        "dados_3  =  (\n",
        "   dados_3.withColumn('Data_Coleta', to_date(col('Data_Coleta'), \"dd/MM/yyyy\"))\n",
        "    .withColumn('Valor_Venda', col('Valor_Venda').cast('decimal(5,2)'))\n",
        "    )"
      ]
    },
    {
      "cell_type": "code",
      "source": [
        "dados_2.printSchema()"
      ],
      "metadata": {
        "colab": {
          "base_uri": "https://localhost:8080/"
        },
        "id": "_8NracmmENgU",
        "outputId": "da7a9c8c-5473-4718-96c3-378869f09679"
      },
      "id": "_8NracmmENgU",
      "execution_count": null,
      "outputs": [
        {
          "output_type": "stream",
          "name": "stdout",
          "text": [
            "root\n",
            " |-- Regiao: string (nullable = true)\n",
            " |-- Estado: string (nullable = true)\n",
            " |-- Municipio: string (nullable = true)\n",
            " |-- Revenda: string (nullable = true)\n",
            " |-- CNPJ: string (nullable = true)\n",
            " |-- Nome: string (nullable = true)\n",
            " |-- Numero: string (nullable = true)\n",
            " |-- Bairro: string (nullable = true)\n",
            " |-- Cep: string (nullable = true)\n",
            " |-- Produto: string (nullable = true)\n",
            " |-- Data_Coleta: date (nullable = true)\n",
            " |-- Valor_Venda: decimal(5,2) (nullable = true)\n",
            " |-- Valor_ Compra: string (nullable = true)\n",
            " |-- Unidade_Medida: string (nullable = true)\n",
            " |-- Bandeira: string (nullable = true)\n",
            "\n"
          ]
        }
      ]
    },
    {
      "cell_type": "code",
      "execution_count": null,
      "id": "1a345514-1056-4fd4-9f98-193bef213919",
      "metadata": {
        "microsoft": {
          "language": "python",
          "language_group": "synapse_pyspark"
        },
        "id": "1a345514-1056-4fd4-9f98-193bef213919",
        "colab": {
          "base_uri": "https://localhost:8080/"
        },
        "outputId": "4a6f5929-12dc-4cb7-f3da-395cd8bb6a9a"
      },
      "outputs": [
        {
          "output_type": "stream",
          "name": "stdout",
          "text": [
            "root\n",
            " |-- Regiao: string (nullable = true)\n",
            " |-- Estado: string (nullable = true)\n",
            " |-- Municipio: string (nullable = true)\n",
            " |-- Revenda: string (nullable = true)\n",
            " |-- CNPJ: string (nullable = true)\n",
            " |-- Nome: string (nullable = true)\n",
            " |-- Numero: string (nullable = true)\n",
            " |-- Bairro: string (nullable = true)\n",
            " |-- Cep: string (nullable = true)\n",
            " |-- Produto: string (nullable = true)\n",
            " |-- Data_Coleta: date (nullable = true)\n",
            " |-- Valor_Venda: decimal(5,2) (nullable = true)\n",
            " |-- Unidade_Medida: string (nullable = true)\n",
            " |-- Bandeira: string (nullable = true)\n",
            "\n"
          ]
        }
      ],
      "source": [
        "dados_3.printSchema()"
      ]
    },
    {
      "cell_type": "code",
      "execution_count": null,
      "id": "f58022f3-f57c-4407-a362-32cd6a2ce292",
      "metadata": {
        "jupyter": {
          "outputs_hidden": false
        },
        "microsoft": {
          "language": "python",
          "language_group": "synapse_pyspark"
        },
        "id": "f58022f3-f57c-4407-a362-32cd6a2ce292",
        "colab": {
          "base_uri": "https://localhost:8080/"
        },
        "outputId": "7a5c45da-e6e0-4048-9640-02e34bfa82de"
      },
      "outputs": [
        {
          "output_type": "stream",
          "name": "stdout",
          "text": [
            "+------+------+---------+--------------------+-------------------+--------------------+------+--------------+---------+--------+-----------+-----------+--------------+--------+\n",
            "|Regiao|Estado|Municipio|             Revenda|               CNPJ|                Nome|Numero|        Bairro|      Cep| Produto|Data_Coleta|Valor_Venda|Unidade_Medida|Bandeira|\n",
            "+------+------+---------+--------------------+-------------------+--------------------+------+--------------+---------+--------+-----------+-----------+--------------+--------+\n",
            "|    SE|    SP| SOROCABA|COMPETRO COMERCIO...| 00.003.188/0001-21|RUA HUMBERTO DE C...|   306|JARDIM ZULMIRA|18061-000|GASOLINA| 2025-03-03|       5.65|    R$ / litro|  BRANCA|\n",
            "|    SE|    SP| SOROCABA|COMPETRO COMERCIO...| 00.003.188/0001-21|RUA HUMBERTO DE C...|   306|JARDIM ZULMIRA|18061-000|  ETANOL| 2025-03-03|       3.78|    R$ / litro|  BRANCA|\n",
            "+------+------+---------+--------------------+-------------------+--------------------+------+--------------+---------+--------+-----------+-----------+--------------+--------+\n",
            "only showing top 2 rows\n",
            "\n"
          ]
        }
      ],
      "source": [
        "dados_3.show(2)"
      ]
    },
    {
      "cell_type": "code",
      "execution_count": null,
      "id": "9fb934e4-13c7-4621-9254-d478cabd8417",
      "metadata": {
        "microsoft": {
          "language": "python",
          "language_group": "synapse_pyspark"
        },
        "id": "9fb934e4-13c7-4621-9254-d478cabd8417",
        "colab": {
          "base_uri": "https://localhost:8080/"
        },
        "outputId": "4bb4b860-4eb1-44d1-b786-3bdea72eb90a"
      },
      "outputs": [
        {
          "output_type": "execute_result",
          "data": {
            "text/plain": [
              "['Regiao',\n",
              " 'Estado',\n",
              " 'Municipio',\n",
              " 'Revenda',\n",
              " 'CNPJ',\n",
              " 'Nome',\n",
              " 'Numero',\n",
              " 'Bairro',\n",
              " 'Cep',\n",
              " 'Produto',\n",
              " 'Data_Coleta',\n",
              " 'Valor_Venda',\n",
              " 'Unidade_Medida',\n",
              " 'Bandeira']"
            ]
          },
          "metadata": {},
          "execution_count": 38
        }
      ],
      "source": [
        "dados.columns"
      ]
    },
    {
      "cell_type": "code",
      "execution_count": null,
      "id": "a1d4cb5b-2245-42de-9ef8-7ec3f5b32796",
      "metadata": {
        "microsoft": {
          "language": "python",
          "language_group": "synapse_pyspark"
        },
        "id": "a1d4cb5b-2245-42de-9ef8-7ec3f5b32796"
      },
      "outputs": [],
      "source": [
        "dados = dados.select(\n",
        "'Regiao'.upper(),\n",
        " 'Estado'.upper(),\n",
        " 'Municipio'.upper(),\n",
        " 'Revenda'.upper(),\n",
        " 'CNPJ'.upper(),\n",
        " 'Nome'.upper(),\n",
        " 'Numero'.upper(),\n",
        " 'Bairro'.upper(),\n",
        " 'Cep'.upper(),\n",
        " 'Produto'.upper(),\n",
        " 'Data_Coleta'.upper(),\n",
        " 'Valor_Venda'.upper(),\n",
        " 'Unidade_Medida'.upper(),\n",
        " 'Bandeira'.upper()\n",
        ")\n"
      ]
    },
    {
      "cell_type": "code",
      "execution_count": null,
      "id": "30da3658-589b-410b-bb7d-7e640b73c167",
      "metadata": {
        "microsoft": {
          "language": "python",
          "language_group": "synapse_pyspark"
        },
        "id": "30da3658-589b-410b-bb7d-7e640b73c167"
      },
      "outputs": [],
      "source": [
        "dados_2 = dados_2.select(\n",
        "'Regiao'.upper(),\n",
        " 'Estado'.upper(),\n",
        " 'Municipio'.upper(),\n",
        " 'Revenda'.upper(),\n",
        " 'CNPJ'.upper(),\n",
        " 'Nome'.upper(),\n",
        " 'Numero'.upper(),\n",
        " 'Bairro'.upper(),\n",
        " 'Cep'.upper(),\n",
        " 'Produto'.upper(),\n",
        " 'Data_Coleta'.upper(),\n",
        " 'Valor_Venda'.upper(),\n",
        " 'Unidade_Medida'.upper(),\n",
        " 'Bandeira'.upper()\n",
        ")\n"
      ]
    },
    {
      "cell_type": "code",
      "execution_count": null,
      "id": "c3032550-8836-4f79-8b7a-05bf822b8b5b",
      "metadata": {
        "microsoft": {
          "language": "python",
          "language_group": "synapse_pyspark"
        },
        "id": "c3032550-8836-4f79-8b7a-05bf822b8b5b",
        "colab": {
          "base_uri": "https://localhost:8080/"
        },
        "outputId": "cfc95c7f-66f1-4fa6-a50c-cb544f8cd00b"
      },
      "outputs": [
        {
          "output_type": "stream",
          "name": "stdout",
          "text": [
            "root\n",
            " |-- REGIAO: string (nullable = true)\n",
            " |-- ESTADO: string (nullable = true)\n",
            " |-- MUNICIPIO: string (nullable = true)\n",
            " |-- REVENDA: string (nullable = true)\n",
            " |-- CNPJ: string (nullable = true)\n",
            " |-- NOME: string (nullable = true)\n",
            " |-- NUMERO: string (nullable = true)\n",
            " |-- BAIRRO: string (nullable = true)\n",
            " |-- CEP: string (nullable = true)\n",
            " |-- PRODUTO: string (nullable = true)\n",
            " |-- DATA_COLETA: date (nullable = true)\n",
            " |-- VALOR_VENDA: decimal(5,2) (nullable = true)\n",
            " |-- UNIDADE_MEDIDA: string (nullable = true)\n",
            " |-- BANDEIRA: string (nullable = true)\n",
            "\n"
          ]
        }
      ],
      "source": [
        "dados_2.printSchema()"
      ]
    },
    {
      "cell_type": "code",
      "execution_count": null,
      "id": "10803cb2-9b36-4712-ad77-d7a9442817c7",
      "metadata": {
        "microsoft": {
          "language": "python",
          "language_group": "synapse_pyspark"
        },
        "id": "10803cb2-9b36-4712-ad77-d7a9442817c7"
      },
      "outputs": [],
      "source": [
        "dados_3 = dados_3.select(\n",
        "'Regiao'.upper(),\n",
        " 'Estado'.upper(),\n",
        " 'Municipio'.upper(),\n",
        " 'Revenda'.upper(),\n",
        " 'CNPJ'.upper(),\n",
        " 'Nome'.upper(),\n",
        " 'Numero'.upper(),\n",
        " 'Bairro'.upper(),\n",
        " 'Cep'.upper(),\n",
        " 'Produto'.upper(),\n",
        " 'Data_Coleta'.upper(),\n",
        " 'Valor_Venda'.upper(),\n",
        " 'Unidade_Medida'.upper(),\n",
        " 'Bandeira'.upper()\n",
        ")\n"
      ]
    },
    {
      "cell_type": "code",
      "execution_count": null,
      "id": "b1d9739b-c8cd-4206-bbcf-ad3a344c3fd9",
      "metadata": {
        "jupyter": {
          "outputs_hidden": false
        },
        "microsoft": {
          "language": "python",
          "language_group": "synapse_pyspark"
        },
        "id": "b1d9739b-c8cd-4206-bbcf-ad3a344c3fd9",
        "colab": {
          "base_uri": "https://localhost:8080/",
          "height": 245
        },
        "outputId": "565435c3-61c3-4972-9f3f-e7ff86bdba87"
      },
      "outputs": [
        {
          "output_type": "stream",
          "name": "stdout",
          "text": [
            "+------+------+---------+--------------------+-------------------+--------------------+------+----------------+---------+------------------+-----------+-----------+--------------+--------+\n",
            "|REGIAO|ESTADO|MUNICIPIO|             REVENDA|               CNPJ|                NOME|NUMERO|          BAIRRO|      CEP|           PRODUTO|DATA_COLETA|VALOR_VENDA|UNIDADE_MEDIDA|BANDEIRA|\n",
            "+------+------+---------+--------------------+-------------------+--------------------+------+----------------+---------+------------------+-----------+-----------+--------------+--------+\n",
            "|    NE|    CE|   SOBRAL|ECONOGÁS DO BRASI...| 08.775.979/0002-62|RUA TABELIÃO IDEL...|   455|          CENTRO|62010-000|          GASOLINA| 2025-01-01|       6.29|    R$ / litro|  RAIZEN|\n",
            "|    NE|    CE|   SOBRAL|ECONOGÁS DO BRASI...| 08.775.979/0002-62|RUA TABELIÃO IDEL...|   455|          CENTRO|62010-000|GASOLINA ADITIVADA| 2025-01-01|       6.49|    R$ / litro|  RAIZEN|\n",
            "|    NE|    CE|   SOBRAL|ECONOGÁS DO BRASI...| 08.775.979/0002-62|RUA TABELIÃO IDEL...|   455|          CENTRO|62010-000|            ETANOL| 2025-01-01|       5.19|    R$ / litro|  RAIZEN|\n",
            "|    NE|    CE|   SOBRAL|V.C.EMPREENDIMENT...| 03.551.935/0002-35|AVENIDA JOSE EUCL...|    30|CORACAO DE JESUS|62043-070|          GASOLINA| 2025-01-01|       6.53|    R$ / litro|  RAIZEN|\n",
            "|    NE|    CE|   SOBRAL|V.C.EMPREENDIMENT...| 03.551.935/0002-35|AVENIDA JOSE EUCL...|    30|CORACAO DE JESUS|62043-070|GASOLINA ADITIVADA| 2025-01-01|       6.83|    R$ / litro|  RAIZEN|\n",
            "+------+------+---------+--------------------+-------------------+--------------------+------+----------------+---------+------------------+-----------+-----------+--------------+--------+\n",
            "only showing top 5 rows\n",
            "\n"
          ]
        },
        {
          "output_type": "display_data",
          "data": {
            "text/plain": [
              "None"
            ]
          },
          "metadata": {}
        }
      ],
      "source": [
        "display(dados.show(5))"
      ]
    },
    {
      "cell_type": "code",
      "execution_count": null,
      "id": "890b6a29-9e8b-43f5-9915-496e8fcdb087",
      "metadata": {
        "jupyter": {
          "outputs_hidden": false
        },
        "microsoft": {
          "language": "python",
          "language_group": "synapse_pyspark"
        },
        "id": "890b6a29-9e8b-43f5-9915-496e8fcdb087",
        "colab": {
          "base_uri": "https://localhost:8080/",
          "height": 245
        },
        "outputId": "3412cc7b-a0af-4bda-bf4a-17d09fdf0c72"
      },
      "outputs": [
        {
          "output_type": "stream",
          "name": "stdout",
          "text": [
            "+------+------+---------------+--------------------+-------------------+--------------------+------+----------+---------+------------------+-----------+-----------+--------------+--------+\n",
            "|REGIAO|ESTADO|      MUNICIPIO|             REVENDA|               CNPJ|                NOME|NUMERO|    BAIRRO|      CEP|           PRODUTO|DATA_COLETA|VALOR_VENDA|UNIDADE_MEDIDA|BANDEIRA|\n",
            "+------+------+---------------+--------------------+-------------------+--------------------+------+----------+---------+------------------+-----------+-----------+--------------+--------+\n",
            "|     N|    AC|CRUZEIRO DO SUL|CARDINAL E OLIVEI...| 03.608.766/0005-75|AVENIDA BOULEVARD...|  1031|    CENTRO|69980-000|          GASOLINA| 2025-02-03|       7.27|    R$ / litro|   VIBRA|\n",
            "|     N|    AC|CRUZEIRO DO SUL|CARDINAL E OLIVEI...| 03.608.766/0005-75|AVENIDA BOULEVARD...|  1031|    CENTRO|69980-000|GASOLINA ADITIVADA| 2025-02-03|       7.73|    R$ / litro|   VIBRA|\n",
            "|     N|    AC|CRUZEIRO DO SUL|AMAZONIA COMERCIO...| 01.492.748/0003-83|  AVENIDA COPACABANA|   440|COPACABANA|69980-000|          GASOLINA| 2025-02-03|       7.27|    R$ / litro|IPIRANGA|\n",
            "|     N|    AC|CRUZEIRO DO SUL|AMAZONIA COMERCIO...| 01.492.748/0003-83|  AVENIDA COPACABANA|   440|COPACABANA|69980-000|GASOLINA ADITIVADA| 2025-02-03|       7.37|    R$ / litro|IPIRANGA|\n",
            "|     N|    AC|CRUZEIRO DO SUL|AMAZONIA COMERCIO...| 01.492.748/0003-83|  AVENIDA COPACABANA|   440|COPACABANA|69980-000|            ETANOL| 2025-02-03|       5.59|    R$ / litro|IPIRANGA|\n",
            "+------+------+---------------+--------------------+-------------------+--------------------+------+----------+---------+------------------+-----------+-----------+--------------+--------+\n",
            "only showing top 5 rows\n",
            "\n"
          ]
        },
        {
          "output_type": "display_data",
          "data": {
            "text/plain": [
              "None"
            ]
          },
          "metadata": {}
        }
      ],
      "source": [
        "display(dados_2.show(5))"
      ]
    },
    {
      "cell_type": "code",
      "execution_count": null,
      "id": "cc0fa6d0-5cfd-4d93-9eae-7bba9f0b0e32",
      "metadata": {
        "jupyter": {
          "outputs_hidden": false
        },
        "microsoft": {
          "language": "python",
          "language_group": "synapse_pyspark"
        },
        "id": "cc0fa6d0-5cfd-4d93-9eae-7bba9f0b0e32",
        "colab": {
          "base_uri": "https://localhost:8080/",
          "height": 245
        },
        "outputId": "52bd6678-c161-4cb9-9cf0-3ae71cd359e5"
      },
      "outputs": [
        {
          "output_type": "stream",
          "name": "stdout",
          "text": [
            "+------+------+---------+--------------------+-------------------+--------------------+------+--------------+---------+--------+-----------+-----------+--------------+--------+\n",
            "|REGIAO|ESTADO|MUNICIPIO|             REVENDA|               CNPJ|                NOME|NUMERO|        BAIRRO|      CEP| PRODUTO|DATA_COLETA|VALOR_VENDA|UNIDADE_MEDIDA|BANDEIRA|\n",
            "+------+------+---------+--------------------+-------------------+--------------------+------+--------------+---------+--------+-----------+-----------+--------------+--------+\n",
            "|    SE|    SP| SOROCABA|COMPETRO COMERCIO...| 00.003.188/0001-21|RUA HUMBERTO DE C...|   306|JARDIM ZULMIRA|18061-000|GASOLINA| 2025-03-03|       5.65|    R$ / litro|  BRANCA|\n",
            "|    SE|    SP| SOROCABA|COMPETRO COMERCIO...| 00.003.188/0001-21|RUA HUMBERTO DE C...|   306|JARDIM ZULMIRA|18061-000|  ETANOL| 2025-03-03|       3.78|    R$ / litro|  BRANCA|\n",
            "|    NE|    AL|ARAPIRACA|AUTO POSTO M M GA...| 08.738.994/0001-50|      RODOVIA AL-220|  5848|   BOM SUCESSO|57309-035|GASOLINA| 2025-03-03|       6.49|    R$ / litro|   VIBRA|\n",
            "|    NE|    AL|ARAPIRACA|AUTO POSTO M M GA...| 08.738.994/0001-50|      RODOVIA AL-220|  5848|   BOM SUCESSO|57309-035|  ETANOL| 2025-03-03|       4.99|    R$ / litro|   VIBRA|\n",
            "|    NE|    AL|ARAPIRACA|AUTO POSTO MASSAR...| 07.248.398/0001-29|      RODOVIA AL 220|  4698|      PLANALTO|57308-000|GASOLINA| 2025-03-03|       6.49|    R$ / litro|  BRANCA|\n",
            "+------+------+---------+--------------------+-------------------+--------------------+------+--------------+---------+--------+-----------+-----------+--------------+--------+\n",
            "only showing top 5 rows\n",
            "\n"
          ]
        },
        {
          "output_type": "display_data",
          "data": {
            "text/plain": [
              "None"
            ]
          },
          "metadata": {}
        }
      ],
      "source": [
        "display(dados_3.show(5))"
      ]
    },
    {
      "cell_type": "code",
      "execution_count": null,
      "id": "db779471-843a-462f-9dc0-6e2890f502f1",
      "metadata": {
        "microsoft": {
          "language": "python",
          "language_group": "synapse_pyspark"
        },
        "id": "db779471-843a-462f-9dc0-6e2890f502f1",
        "colab": {
          "base_uri": "https://localhost:8080/"
        },
        "outputId": "f14c0743-e8d0-422a-c5b4-313cd3a7f05d"
      },
      "outputs": [
        {
          "output_type": "execute_result",
          "data": {
            "text/plain": [
              "(14, 46509)"
            ]
          },
          "metadata": {},
          "execution_count": 47
        }
      ],
      "source": [
        "len(dados.columns), dados.count()"
      ]
    },
    {
      "cell_type": "code",
      "execution_count": null,
      "id": "60cbda94-b228-4a00-b09b-968823616b80",
      "metadata": {
        "microsoft": {
          "language": "python",
          "language_group": "synapse_pyspark"
        },
        "id": "60cbda94-b228-4a00-b09b-968823616b80",
        "colab": {
          "base_uri": "https://localhost:8080/"
        },
        "outputId": "208957a2-f8df-410c-b24d-1dbadb7bfcd7"
      },
      "outputs": [
        {
          "output_type": "execute_result",
          "data": {
            "text/plain": [
              "(14, 44290)"
            ]
          },
          "metadata": {},
          "execution_count": 48
        }
      ],
      "source": [
        "len(dados_2.columns), dados_2.count()"
      ]
    },
    {
      "cell_type": "code",
      "execution_count": null,
      "id": "a1a50b59-1608-4205-8914-cdc479f7b0af",
      "metadata": {
        "microsoft": {
          "language": "python",
          "language_group": "synapse_pyspark"
        },
        "id": "a1a50b59-1608-4205-8914-cdc479f7b0af",
        "colab": {
          "base_uri": "https://localhost:8080/"
        },
        "outputId": "419fc565-562d-4652-e30c-c35c091e4301"
      },
      "outputs": [
        {
          "output_type": "execute_result",
          "data": {
            "text/plain": [
              "(14, 51685)"
            ]
          },
          "metadata": {},
          "execution_count": 49
        }
      ],
      "source": [
        "len(dados_3.columns), dados_3.count()"
      ]
    },
    {
      "cell_type": "code",
      "execution_count": null,
      "id": "1d9b0875-fc35-46e8-88e0-fa5879b6d2ee",
      "metadata": {
        "jupyter": {
          "outputs_hidden": false
        },
        "microsoft": {
          "language": "python",
          "language_group": "synapse_pyspark"
        },
        "id": "1d9b0875-fc35-46e8-88e0-fa5879b6d2ee",
        "colab": {
          "base_uri": "https://localhost:8080/",
          "height": 139
        },
        "outputId": "2bd17ee0-4213-41ee-dd11-58c38d37a5db"
      },
      "outputs": [
        {
          "output_type": "stream",
          "name": "stdout",
          "text": [
            "+------+------+---------+-------+----+----+------+------+---+-------+-----------+-----------+--------------+--------+\n",
            "|REGIAO|ESTADO|MUNICIPIO|REVENDA|CNPJ|NOME|NUMERO|BAIRRO|CEP|PRODUTO|DATA_COLETA|VALOR_VENDA|UNIDADE_MEDIDA|BANDEIRA|\n",
            "+------+------+---------+-------+----+----+------+------+---+-------+-----------+-----------+--------------+--------+\n",
            "|     0|     0|        0|      0|   0|   0|    18|    84|  0|      0|          0|          0|             0|       0|\n",
            "+------+------+---------+-------+----+----+------+------+---+-------+-----------+-----------+--------------+--------+\n",
            "\n"
          ]
        },
        {
          "output_type": "display_data",
          "data": {
            "text/plain": [
              "None"
            ]
          },
          "metadata": {}
        }
      ],
      "source": [
        "display(dados.select([sum(col(c).isNull().cast(\"int\")).alias(c) for c in dados.columns]).show())"
      ]
    },
    {
      "cell_type": "code",
      "execution_count": null,
      "id": "f8b12237-0846-4bce-ab02-0bfe24baad5d",
      "metadata": {
        "microsoft": {
          "language": "python",
          "language_group": "synapse_pyspark"
        },
        "id": "f8b12237-0846-4bce-ab02-0bfe24baad5d"
      },
      "outputs": [],
      "source": [
        "dados = dados.na.drop()"
      ]
    },
    {
      "cell_type": "code",
      "source": [
        "display(dados.select([sum(col(c).isNull().cast(\"int\")).alias(c) for c in dados.columns]).show())"
      ],
      "metadata": {
        "colab": {
          "base_uri": "https://localhost:8080/",
          "height": 139
        },
        "id": "req_lf4VEpaM",
        "outputId": "0ac29ca0-48d1-4abc-94c0-215c6ef8b126"
      },
      "id": "req_lf4VEpaM",
      "execution_count": null,
      "outputs": [
        {
          "output_type": "stream",
          "name": "stdout",
          "text": [
            "+------+------+---------+-------+----+----+------+------+---+-------+-----------+-----------+--------------+--------+\n",
            "|REGIAO|ESTADO|MUNICIPIO|REVENDA|CNPJ|NOME|NUMERO|BAIRRO|CEP|PRODUTO|DATA_COLETA|VALOR_VENDA|UNIDADE_MEDIDA|BANDEIRA|\n",
            "+------+------+---------+-------+----+----+------+------+---+-------+-----------+-----------+--------------+--------+\n",
            "|     0|     0|        0|      0|   0|   0|     0|     0|  0|      0|          0|          0|             0|       0|\n",
            "+------+------+---------+-------+----+----+------+------+---+-------+-----------+-----------+--------------+--------+\n",
            "\n"
          ]
        },
        {
          "output_type": "display_data",
          "data": {
            "text/plain": [
              "None"
            ]
          },
          "metadata": {}
        }
      ]
    },
    {
      "cell_type": "code",
      "execution_count": null,
      "id": "3ef6e9ad-e778-4351-b04a-5935ab657cf9",
      "metadata": {
        "jupyter": {
          "outputs_hidden": false
        },
        "microsoft": {
          "language": "python",
          "language_group": "synapse_pyspark"
        },
        "id": "3ef6e9ad-e778-4351-b04a-5935ab657cf9",
        "colab": {
          "base_uri": "https://localhost:8080/",
          "height": 139
        },
        "outputId": "84be2dc7-2f30-413c-f802-4e409c7c21ce"
      },
      "outputs": [
        {
          "output_type": "stream",
          "name": "stdout",
          "text": [
            "+------+------+---------+-------+----+----+------+------+---+-------+-----------+-----------+--------------+--------+\n",
            "|REGIAO|ESTADO|MUNICIPIO|REVENDA|CNPJ|NOME|NUMERO|BAIRRO|CEP|PRODUTO|DATA_COLETA|VALOR_VENDA|UNIDADE_MEDIDA|BANDEIRA|\n",
            "+------+------+---------+-------+----+----+------+------+---+-------+-----------+-----------+--------------+--------+\n",
            "|     0|     0|        0|      0|   0|   0|     3|    91|  0|      0|          0|          0|             0|       0|\n",
            "+------+------+---------+-------+----+----+------+------+---+-------+-----------+-----------+--------------+--------+\n",
            "\n"
          ]
        },
        {
          "output_type": "display_data",
          "data": {
            "text/plain": [
              "None"
            ]
          },
          "metadata": {}
        }
      ],
      "source": [
        "display(dados_2.select([sum(col(c).isNull().cast(\"int\")).alias(c) for c in dados_2.columns]).show())"
      ]
    },
    {
      "cell_type": "code",
      "execution_count": null,
      "id": "8b7c59e5-fb4f-411e-a7ab-354b2e58c5f8",
      "metadata": {
        "jupyter": {
          "outputs_hidden": false
        },
        "microsoft": {
          "language": "python",
          "language_group": "synapse_pyspark"
        },
        "id": "8b7c59e5-fb4f-411e-a7ab-354b2e58c5f8",
        "colab": {
          "base_uri": "https://localhost:8080/",
          "height": 139
        },
        "outputId": "91bbfeff-44b9-4c79-8b1c-76dd58b44e31"
      },
      "outputs": [
        {
          "output_type": "stream",
          "name": "stdout",
          "text": [
            "+------+------+---------+-------+----+----+------+------+---+-------+-----------+-----------+--------------+--------+\n",
            "|REGIAO|ESTADO|MUNICIPIO|REVENDA|CNPJ|NOME|NUMERO|BAIRRO|CEP|PRODUTO|DATA_COLETA|VALOR_VENDA|UNIDADE_MEDIDA|BANDEIRA|\n",
            "+------+------+---------+-------+----+----+------+------+---+-------+-----------+-----------+--------------+--------+\n",
            "|     0|     0|        0|      0|   0|   0|     9|   114|  0|      0|          0|          0|             0|       0|\n",
            "+------+------+---------+-------+----+----+------+------+---+-------+-----------+-----------+--------------+--------+\n",
            "\n"
          ]
        },
        {
          "output_type": "display_data",
          "data": {
            "text/plain": [
              "None"
            ]
          },
          "metadata": {}
        }
      ],
      "source": [
        "display(dados_3.select([sum(col(c).isNull().cast(\"int\")).alias(c) for c in dados_3.columns]).show())"
      ]
    },
    {
      "cell_type": "code",
      "execution_count": null,
      "id": "30231cda-0233-47b8-a9d4-aeb34588ea62",
      "metadata": {
        "microsoft": {
          "language": "python",
          "language_group": "synapse_pyspark"
        },
        "id": "30231cda-0233-47b8-a9d4-aeb34588ea62"
      },
      "outputs": [],
      "source": [
        "dados_2 = dados_2.na.drop()\n",
        "dados_3 = dados_3.na.drop()"
      ]
    },
    {
      "cell_type": "code",
      "execution_count": null,
      "id": "4c58a4a0-cce2-4cee-8aaa-da1f80e81117",
      "metadata": {
        "jupyter": {
          "outputs_hidden": false
        },
        "microsoft": {
          "language": "python",
          "language_group": "synapse_pyspark"
        },
        "id": "4c58a4a0-cce2-4cee-8aaa-da1f80e81117",
        "colab": {
          "base_uri": "https://localhost:8080/"
        },
        "outputId": "fef61093-0d0c-4639-f4b7-ae6bddef125c"
      },
      "outputs": [
        {
          "output_type": "stream",
          "name": "stdout",
          "text": [
            "+------+------+---------+-------+----+----+------+------+---+-------+-----------+-----------+--------------+--------+\n",
            "|REGIAO|ESTADO|MUNICIPIO|REVENDA|CNPJ|NOME|NUMERO|BAIRRO|CEP|PRODUTO|DATA_COLETA|VALOR_VENDA|UNIDADE_MEDIDA|BANDEIRA|\n",
            "+------+------+---------+-------+----+----+------+------+---+-------+-----------+-----------+--------------+--------+\n",
            "|     0|     0|        0|      0|   0|   0|     0|     0|  0|      0|          0|          0|             0|       0|\n",
            "+------+------+---------+-------+----+----+------+------+---+-------+-----------+-----------+--------------+--------+\n",
            "\n"
          ]
        }
      ],
      "source": [
        "dados_2.select([sum(col(c).isNull().cast(\"int\")).alias(c) for c in dados_2.columns]).show()"
      ]
    },
    {
      "cell_type": "code",
      "execution_count": null,
      "id": "3a3b1161-60c2-4ff5-aa52-3bf48358fe7e",
      "metadata": {
        "jupyter": {
          "outputs_hidden": false
        },
        "microsoft": {
          "language": "python",
          "language_group": "synapse_pyspark"
        },
        "id": "3a3b1161-60c2-4ff5-aa52-3bf48358fe7e",
        "colab": {
          "base_uri": "https://localhost:8080/"
        },
        "outputId": "aed8d066-d522-47d7-9d9e-84caac1872ec"
      },
      "outputs": [
        {
          "output_type": "stream",
          "name": "stdout",
          "text": [
            "+------+------+---------+-------+----+----+------+------+---+-------+-----------+-----------+--------------+--------+\n",
            "|REGIAO|ESTADO|MUNICIPIO|REVENDA|CNPJ|NOME|NUMERO|BAIRRO|CEP|PRODUTO|DATA_COLETA|VALOR_VENDA|UNIDADE_MEDIDA|BANDEIRA|\n",
            "+------+------+---------+-------+----+----+------+------+---+-------+-----------+-----------+--------------+--------+\n",
            "|     0|     0|        0|      0|   0|   0|     0|     0|  0|      0|          0|          0|             0|       0|\n",
            "+------+------+---------+-------+----+----+------+------+---+-------+-----------+-----------+--------------+--------+\n",
            "\n"
          ]
        }
      ],
      "source": [
        "dados_3.select([sum(col(c).isNull().cast(\"int\")).alias(c) for c in dados_3.columns]).show()"
      ]
    },
    {
      "cell_type": "code",
      "execution_count": null,
      "id": "574df46e-cdea-41c1-8992-aa68779a36a6",
      "metadata": {
        "jupyter": {
          "outputs_hidden": false
        },
        "microsoft": {
          "language": "python",
          "language_group": "synapse_pyspark"
        },
        "id": "574df46e-cdea-41c1-8992-aa68779a36a6",
        "colab": {
          "base_uri": "https://localhost:8080/",
          "height": 245
        },
        "outputId": "4496adb8-4cfa-4b3a-fb6b-e41f603e47f4"
      },
      "outputs": [
        {
          "output_type": "stream",
          "name": "stdout",
          "text": [
            "+------+------+---------------+--------------------+-------------------+--------------------+------+----------+---------+------------------+-----------+-----------+--------------+--------+\n",
            "|REGIAO|ESTADO|      MUNICIPIO|             REVENDA|               CNPJ|                NOME|NUMERO|    BAIRRO|      CEP|           PRODUTO|DATA_COLETA|VALOR_VENDA|UNIDADE_MEDIDA|BANDEIRA|\n",
            "+------+------+---------------+--------------------+-------------------+--------------------+------+----------+---------+------------------+-----------+-----------+--------------+--------+\n",
            "|     N|    AC|CRUZEIRO DO SUL|CARDINAL E OLIVEI...| 03.608.766/0005-75|AVENIDA BOULEVARD...|  1031|    CENTRO|69980-000|          GASOLINA| 2025-02-03|       7.27|    R$ / litro|   VIBRA|\n",
            "|     N|    AC|CRUZEIRO DO SUL|CARDINAL E OLIVEI...| 03.608.766/0005-75|AVENIDA BOULEVARD...|  1031|    CENTRO|69980-000|GASOLINA ADITIVADA| 2025-02-03|       7.73|    R$ / litro|   VIBRA|\n",
            "|     N|    AC|CRUZEIRO DO SUL|AMAZONIA COMERCIO...| 01.492.748/0003-83|  AVENIDA COPACABANA|   440|COPACABANA|69980-000|          GASOLINA| 2025-02-03|       7.27|    R$ / litro|IPIRANGA|\n",
            "|     N|    AC|CRUZEIRO DO SUL|AMAZONIA COMERCIO...| 01.492.748/0003-83|  AVENIDA COPACABANA|   440|COPACABANA|69980-000|GASOLINA ADITIVADA| 2025-02-03|       7.37|    R$ / litro|IPIRANGA|\n",
            "|     N|    AC|CRUZEIRO DO SUL|AMAZONIA COMERCIO...| 01.492.748/0003-83|  AVENIDA COPACABANA|   440|COPACABANA|69980-000|            ETANOL| 2025-02-03|       5.59|    R$ / litro|IPIRANGA|\n",
            "+------+------+---------------+--------------------+-------------------+--------------------+------+----------+---------+------------------+-----------+-----------+--------------+--------+\n",
            "only showing top 5 rows\n",
            "\n"
          ]
        },
        {
          "output_type": "display_data",
          "data": {
            "text/plain": [
              "None"
            ]
          },
          "metadata": {}
        }
      ],
      "source": [
        "display(dados_2.show(5))"
      ]
    },
    {
      "cell_type": "code",
      "execution_count": null,
      "id": "007774ad-d1af-4ba5-aa61-74e56645646c",
      "metadata": {
        "jupyter": {
          "outputs_hidden": false
        },
        "microsoft": {
          "language": "python",
          "language_group": "synapse_pyspark"
        },
        "id": "007774ad-d1af-4ba5-aa61-74e56645646c",
        "colab": {
          "base_uri": "https://localhost:8080/",
          "height": 245
        },
        "outputId": "96e2fecc-631a-43a7-8573-3eea348e3bb9"
      },
      "outputs": [
        {
          "output_type": "stream",
          "name": "stdout",
          "text": [
            "+------+------+---------+--------------------+-------------------+--------------------+------+--------------+---------+--------+-----------+-----------+--------------+--------+\n",
            "|REGIAO|ESTADO|MUNICIPIO|             REVENDA|               CNPJ|                NOME|NUMERO|        BAIRRO|      CEP| PRODUTO|DATA_COLETA|VALOR_VENDA|UNIDADE_MEDIDA|BANDEIRA|\n",
            "+------+------+---------+--------------------+-------------------+--------------------+------+--------------+---------+--------+-----------+-----------+--------------+--------+\n",
            "|    SE|    SP| SOROCABA|COMPETRO COMERCIO...| 00.003.188/0001-21|RUA HUMBERTO DE C...|   306|JARDIM ZULMIRA|18061-000|GASOLINA| 2025-03-03|       5.65|    R$ / litro|  BRANCA|\n",
            "|    SE|    SP| SOROCABA|COMPETRO COMERCIO...| 00.003.188/0001-21|RUA HUMBERTO DE C...|   306|JARDIM ZULMIRA|18061-000|  ETANOL| 2025-03-03|       3.78|    R$ / litro|  BRANCA|\n",
            "|    NE|    AL|ARAPIRACA|AUTO POSTO M M GA...| 08.738.994/0001-50|      RODOVIA AL-220|  5848|   BOM SUCESSO|57309-035|GASOLINA| 2025-03-03|       6.49|    R$ / litro|   VIBRA|\n",
            "|    NE|    AL|ARAPIRACA|AUTO POSTO M M GA...| 08.738.994/0001-50|      RODOVIA AL-220|  5848|   BOM SUCESSO|57309-035|  ETANOL| 2025-03-03|       4.99|    R$ / litro|   VIBRA|\n",
            "|    NE|    AL|ARAPIRACA|AUTO POSTO MASSAR...| 07.248.398/0001-29|      RODOVIA AL 220|  4698|      PLANALTO|57308-000|GASOLINA| 2025-03-03|       6.49|    R$ / litro|  BRANCA|\n",
            "+------+------+---------+--------------------+-------------------+--------------------+------+--------------+---------+--------+-----------+-----------+--------------+--------+\n",
            "only showing top 5 rows\n",
            "\n"
          ]
        },
        {
          "output_type": "display_data",
          "data": {
            "text/plain": [
              "None"
            ]
          },
          "metadata": {}
        }
      ],
      "source": [
        "display(dados_3.show(5))"
      ]
    },
    {
      "cell_type": "code",
      "execution_count": null,
      "id": "2b47f670-53ef-48d1-8e21-fdbefd0e32a5",
      "metadata": {
        "microsoft": {
          "language": "python",
          "language_group": "synapse_pyspark"
        },
        "id": "2b47f670-53ef-48d1-8e21-fdbefd0e32a5"
      },
      "outputs": [],
      "source": [
        "# dados = dados.coalesce(1)"
      ]
    },
    {
      "cell_type": "code",
      "execution_count": null,
      "id": "9cfdd073-a275-4bc2-bc0f-3bd90d34a653",
      "metadata": {
        "jupyter": {
          "outputs_hidden": false
        },
        "microsoft": {
          "language": "python",
          "language_group": "synapse_pyspark"
        },
        "id": "9cfdd073-a275-4bc2-bc0f-3bd90d34a653",
        "colab": {
          "base_uri": "https://localhost:8080/",
          "height": 193
        },
        "outputId": "d1c8e911-51e9-4d4b-963c-a591c758748e"
      },
      "outputs": [
        {
          "output_type": "stream",
          "name": "stdout",
          "text": [
            "+------+------+---------+--------------------+-------------------+--------------------+------+--------------+---------+--------+-----------+-----------+--------------+--------+\n",
            "|REGIAO|ESTADO|MUNICIPIO|             REVENDA|               CNPJ|                NOME|NUMERO|        BAIRRO|      CEP| PRODUTO|DATA_COLETA|VALOR_VENDA|UNIDADE_MEDIDA|BANDEIRA|\n",
            "+------+------+---------+--------------------+-------------------+--------------------+------+--------------+---------+--------+-----------+-----------+--------------+--------+\n",
            "|    SE|    SP| SOROCABA|COMPETRO COMERCIO...| 00.003.188/0001-21|RUA HUMBERTO DE C...|   306|JARDIM ZULMIRA|18061-000|GASOLINA| 2025-03-03|       5.65|    R$ / litro|  BRANCA|\n",
            "|    SE|    SP| SOROCABA|COMPETRO COMERCIO...| 00.003.188/0001-21|RUA HUMBERTO DE C...|   306|JARDIM ZULMIRA|18061-000|  ETANOL| 2025-03-03|       3.78|    R$ / litro|  BRANCA|\n",
            "+------+------+---------+--------------------+-------------------+--------------------+------+--------------+---------+--------+-----------+-----------+--------------+--------+\n",
            "only showing top 2 rows\n",
            "\n"
          ]
        },
        {
          "output_type": "display_data",
          "data": {
            "text/plain": [
              "None"
            ]
          },
          "metadata": {}
        }
      ],
      "source": [
        "display(dados_3.show(2))"
      ]
    },
    {
      "cell_type": "code",
      "source": [
        "dados.show(2)"
      ],
      "metadata": {
        "colab": {
          "base_uri": "https://localhost:8080/"
        },
        "id": "iyfkBW0VmB5l",
        "outputId": "538aed1e-3752-48d5-a117-020ccad1a939"
      },
      "id": "iyfkBW0VmB5l",
      "execution_count": null,
      "outputs": [
        {
          "output_type": "stream",
          "name": "stdout",
          "text": [
            "+------+------+---------+--------------------+-------------------+--------------------+------+------+---------+------------------+-----------+-----------+--------------+--------+\n",
            "|REGIAO|ESTADO|MUNICIPIO|             REVENDA|               CNPJ|                NOME|NUMERO|BAIRRO|      CEP|           PRODUTO|DATA_COLETA|VALOR_VENDA|UNIDADE_MEDIDA|BANDEIRA|\n",
            "+------+------+---------+--------------------+-------------------+--------------------+------+------+---------+------------------+-----------+-----------+--------------+--------+\n",
            "|    NE|    CE|   SOBRAL|ECONOGÁS DO BRASI...| 08.775.979/0002-62|RUA TABELIÃO IDEL...|   455|CENTRO|62010-000|          GASOLINA| 2025-01-01|       6.29|    R$ / litro|  RAIZEN|\n",
            "|    NE|    CE|   SOBRAL|ECONOGÁS DO BRASI...| 08.775.979/0002-62|RUA TABELIÃO IDEL...|   455|CENTRO|62010-000|GASOLINA ADITIVADA| 2025-01-01|       6.49|    R$ / litro|  RAIZEN|\n",
            "+------+------+---------+--------------------+-------------------+--------------------+------+------+---------+------------------+-----------+-----------+--------------+--------+\n",
            "only showing top 2 rows\n",
            "\n"
          ]
        }
      ]
    },
    {
      "cell_type": "markdown",
      "source": [
        "## **Salvando dados da Camada Silver na Amazon S3**"
      ],
      "metadata": {
        "id": "MLS8iRp10gbp"
      },
      "id": "MLS8iRp10gbp"
    },
    {
      "cell_type": "code",
      "source": [
        "# criando diretório local\n",
        "!mkdir dados_csv"
      ],
      "metadata": {
        "id": "LRL5DRptnXjw"
      },
      "id": "LRL5DRptnXjw",
      "execution_count": null,
      "outputs": []
    },
    {
      "cell_type": "code",
      "source": [
        "dados.coalesce(1).write.mode(\"overwrite\").format('csv').option('header', 'true').option('inferSchema','true').save(\"dados_csv/preco-gasolina-etanol-01\")\n",
        "dados_2.coalesce(1).write.mode(\"overwrite\").format('csv').option('header', 'true').option('inferSchema','true').save(\"dados_csv/preco-gasolina-etanol-02\")\n",
        "dados_3.coalesce(1).write.mode(\"overwrite\").format('csv').option('header', 'true').option('inferSchema','true').save(\"dados_csv/preco-gasolina-etanol-03\")"
      ],
      "metadata": {
        "id": "fmd-FPgXrxxu"
      },
      "id": "fmd-FPgXrxxu",
      "execution_count": null,
      "outputs": []
    },
    {
      "cell_type": "code",
      "source": [
        "s3.upload_file(\n",
        "    '/content/dados_csv/preco-gasolina-etanol-01/part-00000-3a9eeae4-658f-4331-8fc2-7492fb230e89-c000.csv',\n",
        "    'datalake-combustiveis-br',\n",
        "    'Silver/preco-gasolina-etanol-01.csv')\n",
        "\n"
      ],
      "metadata": {
        "id": "PAdQp5jpl1jj"
      },
      "id": "PAdQp5jpl1jj",
      "execution_count": null,
      "outputs": []
    },
    {
      "cell_type": "code",
      "source": [
        "s3.upload_file(\n",
        "    '/content/dados_csv/preco-gasolina-etanol-02/part-00000-13bf33ae-3abb-4631-9afb-3241da429600-c000.csv',\n",
        "    'datalake-combustiveis-br',\n",
        "    'Silver/preco-gasolina-etanol-02.csv')\n",
        "\n"
      ],
      "metadata": {
        "id": "APto9HSu5FVT"
      },
      "id": "APto9HSu5FVT",
      "execution_count": null,
      "outputs": []
    },
    {
      "cell_type": "code",
      "source": [
        "s3.upload_file('/content/dados_csv/preco-gasolina-etanol-03/part-00000-590813d4-262d-47f5-ad24-9b440b8faa27-c000.csv',\n",
        "               'datalake-combustiveis-br',\n",
        "               'Silver/preco-gasolina-etanol-03.csv')"
      ],
      "metadata": {
        "id": "FFJbM-kr5K4r"
      },
      "id": "FFJbM-kr5K4r",
      "execution_count": null,
      "outputs": []
    },
    {
      "cell_type": "code",
      "source": [],
      "metadata": {
        "id": "LZp02VHe637Y"
      },
      "id": "LZp02VHe637Y",
      "execution_count": null,
      "outputs": []
    }
  ],
  "metadata": {
    "dependencies": {
      "lakehouse": {
        "default_lakehouse": "9accfb77-7d85-44b9-b476-d4d8075472f7",
        "default_lakehouse_name": "Lakehouse_Silver",
        "default_lakehouse_workspace_id": "424dca35-fa44-4ec2-b944-9bef53fc7d06",
        "known_lakehouses": [
          {
            "id": "eee4b82d-a911-4c62-b3b3-ae618a27a7b8"
          },
          {
            "id": "9accfb77-7d85-44b9-b476-d4d8075472f7"
          }
        ]
      }
    },
    "kernel_info": {
      "name": "synapse_pyspark"
    },
    "kernelspec": {
      "display_name": "Python 3",
      "name": "python3"
    },
    "language_info": {
      "codemirror_mode": {
        "name": "ipython",
        "version": 3
      },
      "file_extension": ".py",
      "mimetype": "text/x-python",
      "name": "python",
      "nbconvert_exporter": "python",
      "pygments_lexer": "ipython3",
      "version": "3.11.9"
    },
    "microsoft": {
      "language": "python",
      "language_group": "synapse_pyspark"
    },
    "nteract": {
      "version": "nteract-front-end@1.0.0"
    },
    "spark_compute": {
      "compute_id": "/trident/default",
      "session_options": {
        "conf": {
          "spark.synapse.nbs.session.timeout": "1200000"
        }
      }
    },
    "synapse_widget": {
      "state": {
        "0c2b0b80-04b7-4bd1-8314-f3f1c712636a": {
          "persist_state": {
            "view": {
              "chartOptions": {
                "aggregationType": "sum",
                "binsNumber": 10,
                "categoryFieldKeys": [],
                "chartType": "bar",
                "isStacked": false,
                "seriesFieldKeys": [],
                "wordFrequency": "-1"
              },
              "tableOptions": {},
              "type": "details",
              "viewOptionsGroup": [
                {
                  "tabItems": [
                    {
                      "key": "0",
                      "name": "Table",
                      "options": {},
                      "type": "table"
                    }
                  ]
                }
              ]
            }
          },
          "sync_state": {
            "isSummary": false,
            "language": "scala",
            "table": {
              "rows": [
                {
                  "0": "SE",
                  "1": "SP",
                  "2": "LEME",
                  "3": "POSTO DE SERVICOS LOGAN BONS FLUIDOS LTDA",
                  "4": " 04.708.258/0001-06",
                  "5": "AVENIDA JOSE MOREIRA DE QUEIROZ",
                  "6": "500",
                  "7": "VILA SANTA MARIA",
                  "8": "13611-000",
                  "9": "GASOLINA ADITIVADA",
                  "10": "2025-03-13",
                  "11": "6.59",
                  "12": "R$ / litro",
                  "13": "IPIRANGA",
                  "index": 0,
                  "key": 0
                },
                {
                  "0": "CO",
                  "1": "GO",
                  "2": "CATALAO",
                  "3": "POSTO CATALAO LTDA",
                  "4": " 01.128.537/0001-02",
                  "5": "RUA DR PEDRO LUDOVICO",
                  "6": "309",
                  "7": "CENTRO",
                  "8": "75701-030",
                  "9": "GASOLINA",
                  "10": "2025-03-07",
                  "11": "6.29",
                  "12": "R$ / litro",
                  "13": "VIBRA",
                  "index": 1,
                  "key": 1
                },
                {
                  "0": "SE",
                  "1": "SP",
                  "2": "MAUA",
                  "3": "ECO POSTO MAUA LTDA",
                  "4": " 17.270.274/0001-01",
                  "5": "AVENIDA CLARISSE DE JESUS LAZARO BEDESCHI",
                  "6": "153",
                  "7": "PARQUE SAO VICENTE",
                  "8": "09371-067",
                  "9": "GASOLINA",
                  "10": "2025-03-05",
                  "11": "6.19",
                  "12": "R$ / litro",
                  "13": "VIBRA",
                  "index": 2,
                  "key": 2
                },
                {
                  "0": "SE",
                  "1": "SP",
                  "2": "SAO PAULO",
                  "3": "AUTO POSTO NOVA ZILDA LTDA",
                  "4": " 00.528.369/0001-71",
                  "5": "RUA ZILDA",
                  "6": "515",
                  "7": "CASA VERDE",
                  "8": "02545-001",
                  "9": "ETANOL",
                  "10": "2025-03-10",
                  "11": "4.39",
                  "12": "R$ / litro",
                  "13": "VIBRA",
                  "index": 3,
                  "key": 3
                },
                {
                  "0": "S",
                  "1": "RS",
                  "2": "SAPUCAIA DO SUL",
                  "3": "COMERCIAL LE MANS TRANSPORTES E SERVICOS LTDA",
                  "4": " 04.357.437/0003-08",
                  "5": "AVENIDA JOAO PEREIRA DE VARGAS",
                  "6": "915",
                  "7": "CAMBOIM",
                  "8": "93224-150",
                  "9": "GASOLINA",
                  "10": "2025-03-04",
                  "11": "6.23",
                  "12": "R$ / litro",
                  "13": "IPIRANGA",
                  "index": 4,
                  "key": 4
                }
              ],
              "schema": [
                {
                  "key": "0",
                  "name": "REGIAO",
                  "type": "string"
                },
                {
                  "key": "1",
                  "name": "ESTADO",
                  "type": "string"
                },
                {
                  "key": "2",
                  "name": "MUNICIPIO",
                  "type": "string"
                },
                {
                  "key": "3",
                  "name": "REVENDA",
                  "type": "string"
                },
                {
                  "key": "4",
                  "name": "CNPJ",
                  "type": "string"
                },
                {
                  "key": "5",
                  "name": "NOME",
                  "type": "string"
                },
                {
                  "key": "6",
                  "name": "NUMERO",
                  "type": "int"
                },
                {
                  "key": "7",
                  "name": "BAIRRO",
                  "type": "string"
                },
                {
                  "key": "8",
                  "name": "CEP",
                  "type": "string"
                },
                {
                  "key": "9",
                  "name": "PRODUTO",
                  "type": "string"
                },
                {
                  "key": "10",
                  "name": "DATA_COLETA",
                  "type": "date"
                },
                {
                  "key": "11",
                  "name": "VALOR_VENDA",
                  "type": "decimal"
                },
                {
                  "key": "12",
                  "name": "UNIDADE_MEDIDA",
                  "type": "string"
                },
                {
                  "key": "13",
                  "name": "BANDEIRA",
                  "type": "string"
                }
              ],
              "truncated": false
            },
            "wranglerEntryContext": {
              "dataframeType": "pyspark"
            }
          },
          "type": "Synapse.DataFrame"
        },
        "22def94a-bbb9-4b7a-9fa3-c55f158cbb00": {
          "persist_state": {
            "view": {
              "chartOptions": {
                "aggregationType": "sum",
                "binsNumber": 10,
                "categoryFieldKeys": [],
                "chartType": "bar",
                "isStacked": false,
                "seriesFieldKeys": [],
                "wordFrequency": "-1"
              },
              "tableOptions": {},
              "type": "details",
              "viewOptionsGroup": [
                {
                  "tabItems": [
                    {
                      "key": "0",
                      "name": "Table",
                      "options": {},
                      "type": "table"
                    }
                  ]
                }
              ]
            }
          },
          "sync_state": {
            "isSummary": false,
            "language": "scala",
            "table": {
              "rows": [
                {
                  "0": "0",
                  "1": "0",
                  "2": "0",
                  "3": "0",
                  "4": "0",
                  "5": "0",
                  "6": "0",
                  "7": "0",
                  "8": "0",
                  "9": "0",
                  "10": "0",
                  "11": "0",
                  "12": "0",
                  "13": "0"
                }
              ],
              "schema": [
                {
                  "key": "0",
                  "name": "REGIAO",
                  "type": "bigint"
                },
                {
                  "key": "1",
                  "name": "ESTADO",
                  "type": "bigint"
                },
                {
                  "key": "2",
                  "name": "MUNICIPIO",
                  "type": "bigint"
                },
                {
                  "key": "3",
                  "name": "REVENDA",
                  "type": "bigint"
                },
                {
                  "key": "4",
                  "name": "CNPJ",
                  "type": "bigint"
                },
                {
                  "key": "5",
                  "name": "NOME",
                  "type": "bigint"
                },
                {
                  "key": "6",
                  "name": "NUMERO",
                  "type": "bigint"
                },
                {
                  "key": "7",
                  "name": "BAIRRO",
                  "type": "bigint"
                },
                {
                  "key": "8",
                  "name": "CEP",
                  "type": "bigint"
                },
                {
                  "key": "9",
                  "name": "PRODUTO",
                  "type": "bigint"
                },
                {
                  "key": "10",
                  "name": "DATA_COLETA",
                  "type": "bigint"
                },
                {
                  "key": "11",
                  "name": "VALOR_VENDA",
                  "type": "bigint"
                },
                {
                  "key": "12",
                  "name": "UNIDADE_MEDIDA",
                  "type": "bigint"
                },
                {
                  "key": "13",
                  "name": "BANDEIRA",
                  "type": "bigint"
                }
              ],
              "truncated": false
            },
            "wranglerEntryContext": {
              "dataframeType": "pyspark"
            }
          },
          "type": "Synapse.DataFrame"
        },
        "32281954-e8bd-4ce0-ab4b-59ed8a2183cd": {
          "persist_state": {
            "view": {
              "chartOptions": {
                "aggregationType": "sum",
                "binsNumber": 10,
                "categoryFieldKeys": [],
                "chartType": "bar",
                "isStacked": false,
                "seriesFieldKeys": [],
                "wordFrequency": "-1"
              },
              "tableOptions": {},
              "type": "details",
              "viewOptionsGroup": [
                {
                  "tabItems": [
                    {
                      "key": "0",
                      "name": "Table",
                      "options": {},
                      "type": "table"
                    }
                  ]
                }
              ]
            }
          },
          "sync_state": {
            "isSummary": false,
            "language": "scala",
            "table": {
              "rows": [
                {
                  "0": "0",
                  "1": "0",
                  "2": "0",
                  "3": "0",
                  "4": "0",
                  "5": "0",
                  "6": "3",
                  "7": "91",
                  "8": "0",
                  "9": "0",
                  "10": "0",
                  "11": "0",
                  "12": "0",
                  "13": "0"
                }
              ],
              "schema": [
                {
                  "key": "0",
                  "name": "REGIAO",
                  "type": "bigint"
                },
                {
                  "key": "1",
                  "name": "ESTADO",
                  "type": "bigint"
                },
                {
                  "key": "2",
                  "name": "MUNICIPIO",
                  "type": "bigint"
                },
                {
                  "key": "3",
                  "name": "REVENDA",
                  "type": "bigint"
                },
                {
                  "key": "4",
                  "name": "CNPJ",
                  "type": "bigint"
                },
                {
                  "key": "5",
                  "name": "NOME",
                  "type": "bigint"
                },
                {
                  "key": "6",
                  "name": "NUMERO",
                  "type": "bigint"
                },
                {
                  "key": "7",
                  "name": "BAIRRO",
                  "type": "bigint"
                },
                {
                  "key": "8",
                  "name": "CEP",
                  "type": "bigint"
                },
                {
                  "key": "9",
                  "name": "PRODUTO",
                  "type": "bigint"
                },
                {
                  "key": "10",
                  "name": "DATA_COLETA",
                  "type": "bigint"
                },
                {
                  "key": "11",
                  "name": "VALOR_VENDA",
                  "type": "bigint"
                },
                {
                  "key": "12",
                  "name": "UNIDADE_MEDIDA",
                  "type": "bigint"
                },
                {
                  "key": "13",
                  "name": "BANDEIRA",
                  "type": "bigint"
                }
              ],
              "truncated": false
            },
            "wranglerEntryContext": {
              "dataframeType": "pyspark"
            }
          },
          "type": "Synapse.DataFrame"
        },
        "38601c29-a568-447f-91cf-a4585ec1999f": {
          "persist_state": {
            "view": {
              "chartOptions": {
                "aggregationType": "sum",
                "binsNumber": 10,
                "categoryFieldKeys": [],
                "chartType": "bar",
                "isStacked": false,
                "seriesFieldKeys": [],
                "wordFrequency": "-1"
              },
              "tableOptions": {},
              "type": "details",
              "viewOptionsGroup": [
                {
                  "tabItems": [
                    {
                      "key": "0",
                      "name": "Table",
                      "options": {},
                      "type": "table"
                    }
                  ]
                }
              ]
            }
          },
          "sync_state": {
            "isSummary": false,
            "language": "scala",
            "table": {
              "rows": [
                {
                  "0": "0",
                  "1": "0",
                  "2": "0",
                  "3": "0",
                  "4": "0",
                  "5": "0",
                  "6": "0",
                  "7": "0",
                  "8": "0",
                  "9": "0",
                  "10": "0",
                  "11": "0",
                  "12": "0",
                  "13": "0"
                }
              ],
              "schema": [
                {
                  "key": "0",
                  "name": "REGIAO",
                  "type": "bigint"
                },
                {
                  "key": "1",
                  "name": "ESTADO",
                  "type": "bigint"
                },
                {
                  "key": "2",
                  "name": "MUNICIPIO",
                  "type": "bigint"
                },
                {
                  "key": "3",
                  "name": "REVENDA",
                  "type": "bigint"
                },
                {
                  "key": "4",
                  "name": "CNPJ",
                  "type": "bigint"
                },
                {
                  "key": "5",
                  "name": "NOME",
                  "type": "bigint"
                },
                {
                  "key": "6",
                  "name": "NUMERO",
                  "type": "bigint"
                },
                {
                  "key": "7",
                  "name": "BAIRRO",
                  "type": "bigint"
                },
                {
                  "key": "8",
                  "name": "CEP",
                  "type": "bigint"
                },
                {
                  "key": "9",
                  "name": "PRODUTO",
                  "type": "bigint"
                },
                {
                  "key": "10",
                  "name": "DATA_COLETA",
                  "type": "bigint"
                },
                {
                  "key": "11",
                  "name": "VALOR_VENDA",
                  "type": "bigint"
                },
                {
                  "key": "12",
                  "name": "UNIDADE_MEDIDA",
                  "type": "bigint"
                },
                {
                  "key": "13",
                  "name": "BANDEIRA",
                  "type": "bigint"
                }
              ],
              "truncated": false
            },
            "wranglerEntryContext": {
              "dataframeType": "pyspark"
            }
          },
          "type": "Synapse.DataFrame"
        },
        "38767908-d89f-412d-9a7b-45ce57001d81": {
          "persist_state": {
            "view": {
              "chartOptions": {
                "aggregationType": "sum",
                "binsNumber": 10,
                "categoryFieldKeys": [],
                "chartType": "bar",
                "isStacked": false,
                "seriesFieldKeys": [],
                "wordFrequency": "-1"
              },
              "tableOptions": {},
              "type": "details",
              "viewOptionsGroup": [
                {
                  "tabItems": [
                    {
                      "key": "0",
                      "name": "Table",
                      "options": {},
                      "type": "table"
                    }
                  ]
                }
              ]
            }
          },
          "sync_state": {
            "isSummary": false,
            "language": "scala",
            "table": {
              "rows": [
                {
                  "0": "0",
                  "1": "0",
                  "2": "0",
                  "3": "0",
                  "4": "0",
                  "5": "0",
                  "6": "9",
                  "7": "114",
                  "8": "0",
                  "9": "0",
                  "10": "0",
                  "11": "0",
                  "12": "0",
                  "13": "0"
                }
              ],
              "schema": [
                {
                  "key": "0",
                  "name": "REGIAO",
                  "type": "bigint"
                },
                {
                  "key": "1",
                  "name": "ESTADO",
                  "type": "bigint"
                },
                {
                  "key": "2",
                  "name": "MUNICIPIO",
                  "type": "bigint"
                },
                {
                  "key": "3",
                  "name": "REVENDA",
                  "type": "bigint"
                },
                {
                  "key": "4",
                  "name": "CNPJ",
                  "type": "bigint"
                },
                {
                  "key": "5",
                  "name": "NOME",
                  "type": "bigint"
                },
                {
                  "key": "6",
                  "name": "NUMERO",
                  "type": "bigint"
                },
                {
                  "key": "7",
                  "name": "BAIRRO",
                  "type": "bigint"
                },
                {
                  "key": "8",
                  "name": "CEP",
                  "type": "bigint"
                },
                {
                  "key": "9",
                  "name": "PRODUTO",
                  "type": "bigint"
                },
                {
                  "key": "10",
                  "name": "DATA_COLETA",
                  "type": "bigint"
                },
                {
                  "key": "11",
                  "name": "VALOR_VENDA",
                  "type": "bigint"
                },
                {
                  "key": "12",
                  "name": "UNIDADE_MEDIDA",
                  "type": "bigint"
                },
                {
                  "key": "13",
                  "name": "BANDEIRA",
                  "type": "bigint"
                }
              ],
              "truncated": false
            },
            "wranglerEntryContext": {
              "dataframeType": "pyspark"
            }
          },
          "type": "Synapse.DataFrame"
        },
        "4236f4b7-e412-42c5-8dc0-442816d26ae9": {
          "persist_state": {
            "view": {
              "chartOptions": {
                "aggregationType": "sum",
                "binsNumber": 10,
                "categoryFieldKeys": [],
                "chartType": "bar",
                "isStacked": false,
                "seriesFieldKeys": [],
                "wordFrequency": "-1"
              },
              "tableOptions": {},
              "type": "details",
              "viewOptionsGroup": [
                {
                  "tabItems": [
                    {
                      "key": "0",
                      "name": "Table",
                      "options": {},
                      "type": "table"
                    }
                  ]
                }
              ]
            }
          },
          "sync_state": {
            "isSummary": false,
            "language": "scala",
            "table": {
              "rows": [
                {
                  "0": "0",
                  "1": "0",
                  "2": "0",
                  "3": "0",
                  "4": "0",
                  "5": "0",
                  "6": "18",
                  "7": "84",
                  "8": "0",
                  "9": "0",
                  "10": "0",
                  "11": "0",
                  "12": "0",
                  "13": "0"
                }
              ],
              "schema": [
                {
                  "key": "0",
                  "name": "REGIAO",
                  "type": "bigint"
                },
                {
                  "key": "1",
                  "name": "ESTADO",
                  "type": "bigint"
                },
                {
                  "key": "2",
                  "name": "MUNICIPIO",
                  "type": "bigint"
                },
                {
                  "key": "3",
                  "name": "REVENDA",
                  "type": "bigint"
                },
                {
                  "key": "4",
                  "name": "CNPJ",
                  "type": "bigint"
                },
                {
                  "key": "5",
                  "name": "NOME",
                  "type": "bigint"
                },
                {
                  "key": "6",
                  "name": "NUMERO",
                  "type": "bigint"
                },
                {
                  "key": "7",
                  "name": "BAIRRO",
                  "type": "bigint"
                },
                {
                  "key": "8",
                  "name": "CEP",
                  "type": "bigint"
                },
                {
                  "key": "9",
                  "name": "PRODUTO",
                  "type": "bigint"
                },
                {
                  "key": "10",
                  "name": "DATA_COLETA",
                  "type": "bigint"
                },
                {
                  "key": "11",
                  "name": "VALOR_VENDA",
                  "type": "bigint"
                },
                {
                  "key": "12",
                  "name": "UNIDADE_MEDIDA",
                  "type": "bigint"
                },
                {
                  "key": "13",
                  "name": "BANDEIRA",
                  "type": "bigint"
                }
              ],
              "truncated": false
            },
            "wranglerEntryContext": {
              "dataframeType": "pyspark"
            }
          },
          "type": "Synapse.DataFrame"
        },
        "847414f1-7910-4efd-93f4-12036fa642f6": {
          "persist_state": {
            "view": {
              "chartOptions": {
                "aggregationType": "sum",
                "binsNumber": 10,
                "categoryFieldKeys": [],
                "chartType": "bar",
                "isStacked": false,
                "seriesFieldKeys": [],
                "wordFrequency": "-1"
              },
              "tableOptions": {},
              "type": "details",
              "viewOptionsGroup": [
                {
                  "tabItems": [
                    {
                      "key": "0",
                      "name": "Table",
                      "options": {},
                      "type": "table"
                    }
                  ]
                }
              ]
            }
          },
          "sync_state": {
            "isSummary": false,
            "language": "scala",
            "table": {
              "rows": [
                {
                  "0": "SE",
                  "1": "SP",
                  "2": "LEME",
                  "3": "POSTO DE SERVICOS LOGAN BONS FLUIDOS LTDA",
                  "4": " 04.708.258/0001-06",
                  "5": "AVENIDA JOSE MOREIRA DE QUEIROZ",
                  "6": "500",
                  "7": "VILA SANTA MARIA",
                  "8": "13611-000",
                  "9": "GASOLINA ADITIVADA",
                  "10": "2025-03-13",
                  "11": "6.59",
                  "12": "R$ / litro",
                  "13": "IPIRANGA"
                },
                {
                  "0": "CO",
                  "1": "GO",
                  "2": "CATALAO",
                  "3": "POSTO CATALAO LTDA",
                  "4": " 01.128.537/0001-02",
                  "5": "RUA DR PEDRO LUDOVICO",
                  "6": "309",
                  "7": "CENTRO",
                  "8": "75701-030",
                  "9": "GASOLINA",
                  "10": "2025-03-07",
                  "11": "6.29",
                  "12": "R$ / litro",
                  "13": "VIBRA"
                }
              ],
              "schema": [
                {
                  "key": "0",
                  "name": "REGIAO",
                  "type": "string"
                },
                {
                  "key": "1",
                  "name": "ESTADO",
                  "type": "string"
                },
                {
                  "key": "2",
                  "name": "MUNICIPIO",
                  "type": "string"
                },
                {
                  "key": "3",
                  "name": "REVENDA",
                  "type": "string"
                },
                {
                  "key": "4",
                  "name": "CNPJ",
                  "type": "string"
                },
                {
                  "key": "5",
                  "name": "NOME",
                  "type": "string"
                },
                {
                  "key": "6",
                  "name": "NUMERO",
                  "type": "string"
                },
                {
                  "key": "7",
                  "name": "BAIRRO",
                  "type": "string"
                },
                {
                  "key": "8",
                  "name": "CEP",
                  "type": "string"
                },
                {
                  "key": "9",
                  "name": "PRODUTO",
                  "type": "string"
                },
                {
                  "key": "10",
                  "name": "DATA_COLETA",
                  "type": "date"
                },
                {
                  "key": "11",
                  "name": "VALOR_VENDA",
                  "type": "decimal"
                },
                {
                  "key": "12",
                  "name": "UNIDADE_MEDIDA",
                  "type": "string"
                },
                {
                  "key": "13",
                  "name": "BANDEIRA",
                  "type": "string"
                }
              ],
              "truncated": false
            },
            "wranglerEntryContext": {
              "dataframeType": "pyspark"
            }
          },
          "type": "Synapse.DataFrame"
        },
        "86d05489-44c4-412e-a944-367ad39135b3": {
          "persist_state": {
            "view": {
              "chartOptions": {
                "aggregationType": "sum",
                "binsNumber": 10,
                "categoryFieldKeys": [],
                "chartType": "bar",
                "isStacked": false,
                "seriesFieldKeys": [],
                "wordFrequency": "-1"
              },
              "tableOptions": {},
              "type": "details",
              "viewOptionsGroup": [
                {
                  "tabItems": [
                    {
                      "key": "0",
                      "name": "Table",
                      "options": {},
                      "type": "table"
                    }
                  ]
                }
              ]
            }
          },
          "sync_state": {
            "isSummary": false,
            "language": "scala",
            "table": {
              "rows": [
                {
                  "0": "0",
                  "1": "0",
                  "2": "0",
                  "3": "0",
                  "4": "0",
                  "5": "0",
                  "6": "0",
                  "7": "0",
                  "8": "0",
                  "9": "0",
                  "10": "0",
                  "11": "0",
                  "12": "0",
                  "13": "0"
                }
              ],
              "schema": [
                {
                  "key": "0",
                  "name": "REGIAO",
                  "type": "bigint"
                },
                {
                  "key": "1",
                  "name": "ESTADO",
                  "type": "bigint"
                },
                {
                  "key": "2",
                  "name": "MUNICIPIO",
                  "type": "bigint"
                },
                {
                  "key": "3",
                  "name": "REVENDA",
                  "type": "bigint"
                },
                {
                  "key": "4",
                  "name": "CNPJ",
                  "type": "bigint"
                },
                {
                  "key": "5",
                  "name": "NOME",
                  "type": "bigint"
                },
                {
                  "key": "6",
                  "name": "NUMERO",
                  "type": "bigint"
                },
                {
                  "key": "7",
                  "name": "BAIRRO",
                  "type": "bigint"
                },
                {
                  "key": "8",
                  "name": "CEP",
                  "type": "bigint"
                },
                {
                  "key": "9",
                  "name": "PRODUTO",
                  "type": "bigint"
                },
                {
                  "key": "10",
                  "name": "DATA_COLETA",
                  "type": "bigint"
                },
                {
                  "key": "11",
                  "name": "VALOR_VENDA",
                  "type": "bigint"
                },
                {
                  "key": "12",
                  "name": "UNIDADE_MEDIDA",
                  "type": "bigint"
                },
                {
                  "key": "13",
                  "name": "BANDEIRA",
                  "type": "bigint"
                }
              ],
              "truncated": false
            },
            "wranglerEntryContext": {
              "dataframeType": "pyspark"
            }
          },
          "type": "Synapse.DataFrame"
        },
        "877813fe-0250-46e1-bfb0-2e90914ca599": {
          "persist_state": {
            "view": {
              "chartOptions": {
                "aggregationType": "sum",
                "binsNumber": 10,
                "categoryFieldKeys": [],
                "chartType": "bar",
                "isStacked": false,
                "seriesFieldKeys": [],
                "wordFrequency": "-1"
              },
              "tableOptions": {},
              "type": "details",
              "viewOptionsGroup": [
                {
                  "tabItems": [
                    {
                      "key": "0",
                      "name": "Table",
                      "options": {},
                      "type": "table"
                    }
                  ]
                }
              ]
            }
          },
          "sync_state": {
            "isSummary": false,
            "language": "scala",
            "table": {
              "rows": [
                {
                  "0": "S",
                  "1": "RS",
                  "2": "BAGE",
                  "3": "ABREU FLORES & PEREIRA LTDA",
                  "4": " 14.131.443/0003-98",
                  "5": "AVENIDA EMILIO GUILAIN",
                  "6": "686",
                  "7": "ESTRELA D'ALVA",
                  "8": "96415-100",
                  "9": "GASOLINA",
                  "10": "2025-01-15",
                  "11": "6.98",
                  "12": "R$ / litro",
                  "13": "VIBRA"
                },
                {
                  "0": "SE",
                  "1": "SP",
                  "2": "CAMPINAS",
                  "3": "NOVA CAMPINAS COMERCIO DE COMBUSTIVEIS LTDA",
                  "4": " 04.496.759/0001-68",
                  "5": "AVENIDA ENGENHEIRO CARLOS STEVERSON",
                  "6": "292",
                  "7": "NOVA CAMPINAS",
                  "8": "13092-310",
                  "9": "ETANOL",
                  "10": "2025-01-15",
                  "11": "4.19",
                  "12": "R$ / litro",
                  "13": "RAIZEN"
                },
                {
                  "0": "SE",
                  "1": "MG",
                  "2": "JOAO PINHEIRO",
                  "3": "AUTO POSTO RDG LTDA",
                  "4": " 08.418.219/0001-17",
                  "5": "RODOVIA BR 040",
                  "6": "S/N",
                  "7": "MARIA JOSE DE PAULA",
                  "8": "38770-000",
                  "9": "GASOLINA",
                  "10": "2025-01-06",
                  "11": "6.09",
                  "12": "R$ / litro",
                  "13": "VIBRA"
                },
                {
                  "0": "SE",
                  "1": "SP",
                  "2": "MOGI DAS CRUZES",
                  "3": "POSTO DE SERVICOS TIGRE DO VALE LTDA",
                  "4": " 01.519.037/0001-93",
                  "5": "RODOVIA PEDRO EROLES",
                  "6": "600",
                  "7": "JARDIM ARACY",
                  "8": "08770-490",
                  "9": "ETANOL",
                  "10": "2025-01-15",
                  "11": "4.09",
                  "12": "R$ / litro",
                  "13": "RAIZEN"
                },
                {
                  "0": "S",
                  "1": "RS",
                  "2": "BAGE",
                  "3": "L. CASTRO COMERCIO DE COMBUSTIVEIS LTDA",
                  "4": " 05.799.373/0002-79",
                  "5": "RUA EMÍLIO GUILAIN",
                  "6": "673",
                  "7": "CENTRO",
                  "8": "96415-100",
                  "9": "GASOLINA",
                  "10": "2025-01-15",
                  "11": "7.15",
                  "12": "R$ / litro",
                  "13": "IPIRANGA"
                }
              ],
              "schema": [
                {
                  "key": "0",
                  "name": "REGIAO",
                  "type": "string"
                },
                {
                  "key": "1",
                  "name": "ESTADO",
                  "type": "string"
                },
                {
                  "key": "2",
                  "name": "MUNICIPIO",
                  "type": "string"
                },
                {
                  "key": "3",
                  "name": "REVENDA",
                  "type": "string"
                },
                {
                  "key": "4",
                  "name": "CNPJ",
                  "type": "string"
                },
                {
                  "key": "5",
                  "name": "NOME",
                  "type": "string"
                },
                {
                  "key": "6",
                  "name": "NUMERO",
                  "type": "string"
                },
                {
                  "key": "7",
                  "name": "BAIRRO",
                  "type": "string"
                },
                {
                  "key": "8",
                  "name": "CEP",
                  "type": "string"
                },
                {
                  "key": "9",
                  "name": "PRODUTO",
                  "type": "string"
                },
                {
                  "key": "10",
                  "name": "DATA_COLETA",
                  "type": "date"
                },
                {
                  "key": "11",
                  "name": "VALOR_VENDA",
                  "type": "decimal"
                },
                {
                  "key": "12",
                  "name": "UNIDADE_MEDIDA",
                  "type": "string"
                },
                {
                  "key": "13",
                  "name": "BANDEIRA",
                  "type": "string"
                }
              ],
              "truncated": false
            },
            "wranglerEntryContext": {
              "dataframeType": "pyspark"
            }
          },
          "type": "Synapse.DataFrame"
        },
        "8d70825a-1984-46d4-bac0-a374264ecc9b": {
          "persist_state": {
            "view": {
              "chartOptions": {
                "aggregationType": "sum",
                "binsNumber": 10,
                "categoryFieldKeys": [],
                "chartType": "bar",
                "isStacked": false,
                "seriesFieldKeys": [],
                "wordFrequency": "-1"
              },
              "tableOptions": {},
              "type": "details",
              "viewOptionsGroup": [
                {
                  "tabItems": [
                    {
                      "key": "0",
                      "name": "Table",
                      "options": {},
                      "type": "table"
                    }
                  ]
                }
              ]
            }
          },
          "sync_state": {
            "isSummary": false,
            "language": "scala",
            "table": {
              "rows": [
                {
                  "0": "S",
                  "1": "PR",
                  "2": "CASCAVEL",
                  "3": "AUTO POSTO PRA FRENTE BRASIL LTDA",
                  "4": " 04.868.412/0009-56",
                  "5": "RUA CARLOS GOMES",
                  "6": "2929",
                  "8": "PARQUE SAO PAULO",
                  "9": "85803-000",
                  "10": "GASOLINA",
                  "11": "31/01/2025",
                  "12": "6,39",
                  "14": "R$ / litro",
                  "15": "RAIZEN"
                },
                {
                  "0": "SE",
                  "1": "SP",
                  "2": "PRESIDENTE PRUDENTE",
                  "3": "POSTO ZAP PRESIDENTE PRUDENTE LTDA",
                  "4": " 02.438.395/0001-34",
                  "5": "AVENIDA JOAQUIM CONSTANTINO",
                  "6": "1892",
                  "8": "VILA FORMOSA",
                  "9": "19050-220",
                  "10": "ETANOL",
                  "11": "20/01/2025",
                  "12": "3,87",
                  "14": "R$ / litro",
                  "15": "BRANCA"
                },
                {
                  "0": "NE",
                  "1": "PB",
                  "2": "CAMPINA GRANDE",
                  "3": "POSTO MONUMENTO COMERCIO VAREJISTA DE COMBUSTIVEIS LTDA",
                  "4": " 08.735.891/0002-17",
                  "5": "AVENIDA PREFEITO SEVERINO CABRAL",
                  "6": "SN",
                  "7": "KM    145.5 BR 230",
                  "8": "VILA CABRAL",
                  "9": "58408-000",
                  "10": "GASOLINA",
                  "11": "27/01/2025",
                  "12": "5,80",
                  "14": "R$ / litro",
                  "15": "IPIRANGA"
                },
                {
                  "0": "SE",
                  "1": "SP",
                  "2": "SAO PAULO",
                  "3": "CENTRO AUTOMOTIVO PORTAL DA CANTAREIRA LTDA.",
                  "4": " 04.879.630/0001-39",
                  "5": "AVENIDA LUIZ DUMONT VILLARES",
                  "6": "2245",
                  "8": "PARADA INGLESA",
                  "9": "02239-000",
                  "10": "GASOLINA",
                  "11": "27/01/2025",
                  "12": "5,85",
                  "14": "R$ / litro",
                  "15": "VIBRA"
                },
                {
                  "0": "NE",
                  "1": "BA",
                  "2": "BARREIRAS",
                  "3": "DT COMBUSTIVEIS LTDA",
                  "4": " 08.546.610/0001-05",
                  "5": "AVENIDA ANTONIO CARLOS MAGALHAES",
                  "6": "2024",
                  "8": "NOVO HORIZONTE",
                  "9": "47802-366",
                  "10": "ETANOL",
                  "11": "28/01/2025",
                  "12": "4,59",
                  "14": "R$ / litro",
                  "15": "LARCO"
                }
              ],
              "schema": [
                {
                  "key": "0",
                  "name": "Regiao",
                  "type": "string"
                },
                {
                  "key": "1",
                  "name": "Estado",
                  "type": "string"
                },
                {
                  "key": "2",
                  "name": "Municipio",
                  "type": "string"
                },
                {
                  "key": "3",
                  "name": "Revenda",
                  "type": "string"
                },
                {
                  "key": "4",
                  "name": "CNPJ",
                  "type": "string"
                },
                {
                  "key": "5",
                  "name": "Nome",
                  "type": "string"
                },
                {
                  "key": "6",
                  "name": "Numero",
                  "type": "string"
                },
                {
                  "key": "7",
                  "name": "Complemento",
                  "type": "string"
                },
                {
                  "key": "8",
                  "name": "Bairro",
                  "type": "string"
                },
                {
                  "key": "9",
                  "name": "Cep",
                  "type": "string"
                },
                {
                  "key": "10",
                  "name": "Produto",
                  "type": "string"
                },
                {
                  "key": "11",
                  "name": "Data_Coleta",
                  "type": "string"
                },
                {
                  "key": "12",
                  "name": "Valor_Venda",
                  "type": "string"
                },
                {
                  "key": "13",
                  "name": "Valor_ Compra",
                  "type": "string"
                },
                {
                  "key": "14",
                  "name": "Unidade_Medida",
                  "type": "string"
                },
                {
                  "key": "15",
                  "name": "Bandeira",
                  "type": "string"
                }
              ],
              "truncated": false
            },
            "wranglerEntryContext": null
          },
          "type": "Synapse.DataFrame"
        },
        "99e0c9f6-f545-40d0-9101-b9d2cf49b605": {
          "persist_state": {
            "view": {
              "chartOptions": {
                "aggregationType": "sum",
                "binsNumber": 10,
                "categoryFieldKeys": [],
                "chartType": "bar",
                "isStacked": false,
                "seriesFieldKeys": [],
                "wordFrequency": "-1"
              },
              "tableOptions": {},
              "type": "details",
              "viewOptionsGroup": [
                {
                  "tabItems": [
                    {
                      "key": "0",
                      "name": "Table",
                      "options": {},
                      "type": "table"
                    }
                  ]
                }
              ]
            }
          },
          "sync_state": {
            "isSummary": false,
            "language": "scala",
            "table": {
              "rows": [
                {
                  "0": "SE",
                  "1": "SP",
                  "2": "LEME",
                  "3": "POSTO DE SERVICOS LOGAN BONS FLUIDOS LTDA",
                  "4": " 04.708.258/0001-06",
                  "5": "AVENIDA JOSE MOREIRA DE QUEIROZ",
                  "6": "500",
                  "7": "VILA SANTA MARIA",
                  "8": "13611-000",
                  "9": "GASOLINA ADITIVADA",
                  "10": "2025-03-13",
                  "11": "6.59",
                  "12": "R$ / litro",
                  "13": "IPIRANGA"
                },
                {
                  "0": "CO",
                  "1": "GO",
                  "2": "CATALAO",
                  "3": "POSTO CATALAO LTDA",
                  "4": " 01.128.537/0001-02",
                  "5": "RUA DR PEDRO LUDOVICO",
                  "6": "309",
                  "7": "CENTRO",
                  "8": "75701-030",
                  "9": "GASOLINA",
                  "10": "2025-03-07",
                  "11": "6.29",
                  "12": "R$ / litro",
                  "13": "VIBRA"
                },
                {
                  "0": "SE",
                  "1": "SP",
                  "2": "MAUA",
                  "3": "ECO POSTO MAUA LTDA",
                  "4": " 17.270.274/0001-01",
                  "5": "AVENIDA CLARISSE DE JESUS LAZARO BEDESCHI",
                  "6": "153",
                  "7": "PARQUE SAO VICENTE",
                  "8": "09371-067",
                  "9": "GASOLINA",
                  "10": "2025-03-05",
                  "11": "6.19",
                  "12": "R$ / litro",
                  "13": "VIBRA"
                },
                {
                  "0": "SE",
                  "1": "SP",
                  "2": "SAO PAULO",
                  "3": "AUTO POSTO NOVA ZILDA LTDA",
                  "4": " 00.528.369/0001-71",
                  "5": "RUA ZILDA",
                  "6": "515",
                  "7": "CASA VERDE",
                  "8": "02545-001",
                  "9": "ETANOL",
                  "10": "2025-03-10",
                  "11": "4.39",
                  "12": "R$ / litro",
                  "13": "VIBRA"
                },
                {
                  "0": "S",
                  "1": "RS",
                  "2": "SAPUCAIA DO SUL",
                  "3": "COMERCIAL LE MANS TRANSPORTES E SERVICOS LTDA",
                  "4": " 04.357.437/0003-08",
                  "5": "AVENIDA JOAO PEREIRA DE VARGAS",
                  "6": "915",
                  "7": "CAMBOIM",
                  "8": "93224-150",
                  "9": "GASOLINA",
                  "10": "2025-03-04",
                  "11": "6.23",
                  "12": "R$ / litro",
                  "13": "IPIRANGA"
                }
              ],
              "schema": [
                {
                  "key": "0",
                  "name": "REGIAO",
                  "type": "string"
                },
                {
                  "key": "1",
                  "name": "ESTADO",
                  "type": "string"
                },
                {
                  "key": "2",
                  "name": "MUNICIPIO",
                  "type": "string"
                },
                {
                  "key": "3",
                  "name": "REVENDA",
                  "type": "string"
                },
                {
                  "key": "4",
                  "name": "CNPJ",
                  "type": "string"
                },
                {
                  "key": "5",
                  "name": "NOME",
                  "type": "string"
                },
                {
                  "key": "6",
                  "name": "NUMERO",
                  "type": "string"
                },
                {
                  "key": "7",
                  "name": "BAIRRO",
                  "type": "string"
                },
                {
                  "key": "8",
                  "name": "CEP",
                  "type": "string"
                },
                {
                  "key": "9",
                  "name": "PRODUTO",
                  "type": "string"
                },
                {
                  "key": "10",
                  "name": "DATA_COLETA",
                  "type": "date"
                },
                {
                  "key": "11",
                  "name": "VALOR_VENDA",
                  "type": "decimal"
                },
                {
                  "key": "12",
                  "name": "UNIDADE_MEDIDA",
                  "type": "string"
                },
                {
                  "key": "13",
                  "name": "BANDEIRA",
                  "type": "string"
                }
              ],
              "truncated": false
            },
            "wranglerEntryContext": {
              "dataframeType": "pyspark"
            }
          },
          "type": "Synapse.DataFrame"
        },
        "b751d31b-a26f-4158-90c9-63840256d17f": {
          "persist_state": {
            "view": {
              "chartOptions": {
                "aggregationType": "sum",
                "binsNumber": 10,
                "categoryFieldKeys": [],
                "chartType": "bar",
                "isStacked": false,
                "seriesFieldKeys": [],
                "wordFrequency": "-1"
              },
              "tableOptions": {},
              "type": "details",
              "viewOptionsGroup": [
                {
                  "tabItems": [
                    {
                      "key": "0",
                      "name": "Table",
                      "options": {},
                      "type": "table"
                    }
                  ]
                }
              ]
            }
          },
          "sync_state": {
            "isSummary": false,
            "language": "scala",
            "table": {
              "rows": [
                {
                  "0": "SE",
                  "1": "MG",
                  "2": "DIVINOPOLIS",
                  "3": "PREMIUM COMERCIO DE COMBUSTIVEIS LTDA",
                  "4": " 08.326.895/0001-60",
                  "5": "RUA GOIAS",
                  "6": "1075",
                  "8": "CENTRO",
                  "9": "35500-001",
                  "10": "GASOLINA",
                  "11": "17/02/2025",
                  "12": "6,39",
                  "14": "R$ / litro",
                  "15": "IPIRANGA"
                },
                {
                  "0": "CO",
                  "1": "GO",
                  "2": "LUZIANIA",
                  "3": "AUTO POSTO MASUT LTDA",
                  "4": " 14.639.047/0001-04",
                  "5": "RODOVIA QUADRA 68 (BR 040)",
                  "6": "SN",
                  "7": "LOTE: A B;",
                  "8": "PARQUE INDUSTRIAL MINGONE",
                  "9": "72855-068",
                  "10": "GASOLINA",
                  "11": "06/02/2025",
                  "12": "6,69",
                  "14": "R$ / litro",
                  "15": "MASUT DISTRIBUIDORA"
                },
                {
                  "0": "CO",
                  "1": "GO",
                  "2": "ITUMBIARA",
                  "3": "ALFA COMBUSTIVEIS LTDA",
                  "4": " 05.730.166/0001-87",
                  "5": "VIA EXPRESSA JULIO BORGES DE SOUZA",
                  "6": "4320",
                  "8": "SANTA RITA",
                  "9": "75522-130",
                  "10": "GASOLINA",
                  "11": "14/02/2025",
                  "12": "6,01",
                  "14": "R$ / litro",
                  "15": "RAIZEN"
                },
                {
                  "0": "S",
                  "1": "RS",
                  "2": "CRUZ ALTA",
                  "3": "COOPERATIVA AGRICOLA MISTA GENERAL OSORIO LTDA",
                  "4": " 90.657.289/0090-84",
                  "5": "AVENIDA PRESIDENTE VARGAS",
                  "6": "710",
                  "8": "CENTRO",
                  "9": "98005-118",
                  "10": "GASOLINA ADITIVADA",
                  "11": "06/02/2025",
                  "12": "6,94",
                  "14": "R$ / litro",
                  "15": "IPIRANGA"
                },
                {
                  "0": "S",
                  "1": "RS",
                  "2": "PASSO FUNDO",
                  "3": "MPS COMERCIO DE COMBUSTIVEIS LTDA",
                  "4": " 37.435.735/0001-58",
                  "5": "RUA ALONCIO DE CAMARGO",
                  "6": "30",
                  "8": "INTEGRACAO",
                  "9": "99032-040",
                  "10": "GASOLINA ADITIVADA",
                  "11": "04/02/2025",
                  "12": "6,69",
                  "14": "R$ / litro",
                  "15": "RAIZEN"
                }
              ],
              "schema": [
                {
                  "key": "0",
                  "name": "Regiao - Sigla",
                  "type": "string"
                },
                {
                  "key": "1",
                  "name": "Estado - Sigla",
                  "type": "string"
                },
                {
                  "key": "2",
                  "name": "Municipio",
                  "type": "string"
                },
                {
                  "key": "3",
                  "name": "Revenda",
                  "type": "string"
                },
                {
                  "key": "4",
                  "name": "CNPJ da Revenda",
                  "type": "string"
                },
                {
                  "key": "5",
                  "name": "Nome da Rua",
                  "type": "string"
                },
                {
                  "key": "6",
                  "name": "Numero Rua",
                  "type": "string"
                },
                {
                  "key": "7",
                  "name": "Complemento",
                  "type": "string"
                },
                {
                  "key": "8",
                  "name": "Bairro",
                  "type": "string"
                },
                {
                  "key": "9",
                  "name": "Cep",
                  "type": "string"
                },
                {
                  "key": "10",
                  "name": "Produto",
                  "type": "string"
                },
                {
                  "key": "11",
                  "name": "Data da Coleta",
                  "type": "string"
                },
                {
                  "key": "12",
                  "name": "Valor de Venda",
                  "type": "string"
                },
                {
                  "key": "13",
                  "name": "Valor de Compra",
                  "type": "string"
                },
                {
                  "key": "14",
                  "name": "Unidade de Medida",
                  "type": "string"
                },
                {
                  "key": "15",
                  "name": "Bandeira",
                  "type": "string"
                }
              ],
              "truncated": false
            },
            "wranglerEntryContext": {
              "dataframeType": "pyspark"
            }
          },
          "type": "Synapse.DataFrame"
        },
        "c3484108-0b42-4983-8e8d-d1fcd12fc27d": {
          "persist_state": {
            "view": {
              "chartOptions": {
                "aggregationType": "sum",
                "binsNumber": 10,
                "categoryFieldKeys": [],
                "chartType": "bar",
                "isStacked": false,
                "seriesFieldKeys": [],
                "wordFrequency": "-1"
              },
              "tableOptions": {},
              "type": "details",
              "viewOptionsGroup": [
                {
                  "tabItems": [
                    {
                      "key": "0",
                      "name": "Table",
                      "options": {},
                      "type": "table"
                    }
                  ]
                }
              ]
            }
          },
          "sync_state": {
            "isSummary": false,
            "language": "scala",
            "table": {
              "rows": [
                {
                  "0": "S",
                  "1": "RS",
                  "2": "BAGE",
                  "3": "ABREU FLORES & PEREIRA LTDA",
                  "4": " 14.131.443/0003-98",
                  "5": "AVENIDA EMILIO GUILAIN",
                  "6": "686",
                  "7": "ESTRELA D'ALVA",
                  "8": "96415-100",
                  "9": "GASOLINA",
                  "10": "2025-01-15",
                  "11": "6.980000000000000000",
                  "12": "R$ / litro",
                  "13": "VIBRA"
                },
                {
                  "0": "SE",
                  "1": "SP",
                  "2": "CAMPINAS",
                  "3": "NOVA CAMPINAS COMERCIO DE COMBUSTIVEIS LTDA",
                  "4": " 04.496.759/0001-68",
                  "5": "AVENIDA ENGENHEIRO CARLOS STEVERSON",
                  "6": "292",
                  "7": "NOVA CAMPINAS",
                  "8": "13092-310",
                  "9": "ETANOL",
                  "10": "2025-01-15",
                  "11": "4.190000000000000000",
                  "12": "R$ / litro",
                  "13": "RAIZEN"
                },
                {
                  "0": "SE",
                  "1": "MG",
                  "2": "JOAO PINHEIRO",
                  "3": "AUTO POSTO RDG LTDA",
                  "4": " 08.418.219/0001-17",
                  "5": "RODOVIA BR 040",
                  "6": "S/N",
                  "7": "MARIA JOSE DE PAULA",
                  "8": "38770-000",
                  "9": "GASOLINA",
                  "10": "2025-01-06",
                  "11": "6.090000000000000000",
                  "12": "R$ / litro",
                  "13": "VIBRA"
                },
                {
                  "0": "SE",
                  "1": "SP",
                  "2": "MOGI DAS CRUZES",
                  "3": "POSTO DE SERVICOS TIGRE DO VALE LTDA",
                  "4": " 01.519.037/0001-93",
                  "5": "RODOVIA PEDRO EROLES",
                  "6": "600",
                  "7": "JARDIM ARACY",
                  "8": "08770-490",
                  "9": "ETANOL",
                  "10": "2025-01-15",
                  "11": "4.090000000000000000",
                  "12": "R$ / litro",
                  "13": "RAIZEN"
                },
                {
                  "0": "S",
                  "1": "RS",
                  "2": "BAGE",
                  "3": "L. CASTRO COMERCIO DE COMBUSTIVEIS LTDA",
                  "4": " 05.799.373/0002-79",
                  "5": "RUA EMÍLIO GUILAIN",
                  "6": "673",
                  "7": "CENTRO",
                  "8": "96415-100",
                  "9": "GASOLINA",
                  "10": "2025-01-15",
                  "11": "7.150000000000000000",
                  "12": "R$ / litro",
                  "13": "IPIRANGA"
                }
              ],
              "schema": [
                {
                  "key": "0",
                  "name": "Regiao",
                  "type": "string"
                },
                {
                  "key": "1",
                  "name": "Estado",
                  "type": "string"
                },
                {
                  "key": "2",
                  "name": "Municipio",
                  "type": "string"
                },
                {
                  "key": "3",
                  "name": "Revenda",
                  "type": "string"
                },
                {
                  "key": "4",
                  "name": "CNPJ",
                  "type": "string"
                },
                {
                  "key": "5",
                  "name": "Nome",
                  "type": "string"
                },
                {
                  "key": "6",
                  "name": "Numero",
                  "type": "string"
                },
                {
                  "key": "7",
                  "name": "Bairro",
                  "type": "string"
                },
                {
                  "key": "8",
                  "name": "Cep",
                  "type": "string"
                },
                {
                  "key": "9",
                  "name": "Produto",
                  "type": "string"
                },
                {
                  "key": "10",
                  "name": "Data_Coleta",
                  "type": "date"
                },
                {
                  "key": "11",
                  "name": "Valor_Venda",
                  "type": "decimal"
                },
                {
                  "key": "12",
                  "name": "Unidade_Medida",
                  "type": "string"
                },
                {
                  "key": "13",
                  "name": "Bandeira",
                  "type": "string"
                }
              ],
              "truncated": false
            },
            "wranglerEntryContext": null
          },
          "type": "Synapse.DataFrame"
        },
        "c5a69b32-e012-4cb6-b6e2-f4876ef871e3": {
          "persist_state": {
            "view": {
              "chartOptions": {
                "aggregationType": "sum",
                "binsNumber": 10,
                "categoryFieldKeys": [],
                "chartType": "bar",
                "isStacked": false,
                "seriesFieldKeys": [],
                "wordFrequency": "-1"
              },
              "tableOptions": {},
              "type": "details",
              "viewOptionsGroup": [
                {
                  "tabItems": [
                    {
                      "key": "0",
                      "name": "Table",
                      "options": {},
                      "type": "table"
                    }
                  ]
                }
              ]
            }
          },
          "sync_state": {
            "isSummary": false,
            "language": "scala",
            "table": {
              "rows": [
                {
                  "0": "SE",
                  "1": "SP",
                  "2": "LEME",
                  "3": "POSTO DE SERVICOS LOGAN BONS FLUIDOS LTDA",
                  "4": " 04.708.258/0001-06",
                  "5": "AVENIDA JOSE MOREIRA DE QUEIROZ",
                  "6": "500",
                  "7": "VILA SANTA MARIA",
                  "8": "13611-000",
                  "9": "GASOLINA ADITIVADA",
                  "10": "2025-03-13",
                  "11": "6.59",
                  "12": "R$ / litro",
                  "13": "IPIRANGA"
                },
                {
                  "0": "CO",
                  "1": "GO",
                  "2": "CATALAO",
                  "3": "POSTO CATALAO LTDA",
                  "4": " 01.128.537/0001-02",
                  "5": "RUA DR PEDRO LUDOVICO",
                  "6": "309",
                  "7": "CENTRO",
                  "8": "75701-030",
                  "9": "GASOLINA",
                  "10": "2025-03-07",
                  "11": "6.29",
                  "12": "R$ / litro",
                  "13": "VIBRA"
                }
              ],
              "schema": [
                {
                  "key": "0",
                  "name": "Regiao",
                  "type": "string"
                },
                {
                  "key": "1",
                  "name": "Estado",
                  "type": "string"
                },
                {
                  "key": "2",
                  "name": "Municipio",
                  "type": "string"
                },
                {
                  "key": "3",
                  "name": "Revenda",
                  "type": "string"
                },
                {
                  "key": "4",
                  "name": "CNPJ",
                  "type": "string"
                },
                {
                  "key": "5",
                  "name": "Nome",
                  "type": "string"
                },
                {
                  "key": "6",
                  "name": "Numero",
                  "type": "string"
                },
                {
                  "key": "7",
                  "name": "Bairro",
                  "type": "string"
                },
                {
                  "key": "8",
                  "name": "Cep",
                  "type": "string"
                },
                {
                  "key": "9",
                  "name": "Produto",
                  "type": "string"
                },
                {
                  "key": "10",
                  "name": "Data_Coleta",
                  "type": "date"
                },
                {
                  "key": "11",
                  "name": "Valor_Venda",
                  "type": "decimal"
                },
                {
                  "key": "12",
                  "name": "Unidade_Medida",
                  "type": "string"
                },
                {
                  "key": "13",
                  "name": "Bandeira",
                  "type": "string"
                }
              ],
              "truncated": false
            },
            "wranglerEntryContext": {
              "dataframeType": "pyspark"
            }
          },
          "type": "Synapse.DataFrame"
        },
        "c665d593-2098-453e-8ee8-673f73d0dc06": {
          "persist_state": {
            "view": {
              "chartOptions": {
                "aggregationType": "sum",
                "binsNumber": 10,
                "categoryFieldKeys": [],
                "chartType": "bar",
                "isStacked": false,
                "seriesFieldKeys": [],
                "wordFrequency": "-1"
              },
              "tableOptions": {},
              "type": "details",
              "viewOptionsGroup": [
                {
                  "tabItems": [
                    {
                      "key": "0",
                      "name": "Table",
                      "options": {},
                      "type": "table"
                    }
                  ]
                }
              ]
            }
          },
          "sync_state": {
            "isSummary": false,
            "language": "scala",
            "table": {
              "rows": [
                {
                  "0": "SE",
                  "1": "MG",
                  "2": "IPATINGA",
                  "3": "POSTO GENTIL IPATINGA LTDA",
                  "4": " 05.120.495/0001-06",
                  "5": "AVENIDA JUSCELINO KUBITSCHEK",
                  "6": "1085",
                  "7": "JARDIM PANORAMA",
                  "8": "35164-245",
                  "9": "GASOLINA",
                  "10": "2025-02-03",
                  "11": "6.09",
                  "12": "R$ / litro",
                  "13": "BRANCA",
                  "index": 0,
                  "key": 0
                },
                {
                  "0": "CO",
                  "1": "GO",
                  "2": "RIO VERDE",
                  "3": "POSTO MORADA DO SOL LTDA",
                  "4": " 01.477.306/0001-04",
                  "5": "AVENIDA PRESIDENTE VARGAS",
                  "7": "ODILIA",
                  "8": "75908-844",
                  "9": "ETANOL",
                  "10": "2025-02-12",
                  "11": "4.09",
                  "12": "R$ / litro",
                  "13": "BRANCA",
                  "index": 1,
                  "key": 1
                },
                {
                  "0": "S",
                  "1": "RS",
                  "2": "SANTA ROSA",
                  "3": "POSTO DE COMBUSTIVEIS VACCARI LTDA",
                  "4": " 87.687.489/0001-08",
                  "5": "AVENIDA RIO BRANCO",
                  "6": "26",
                  "7": "CENTRO",
                  "8": "98780-702",
                  "9": "GASOLINA",
                  "10": "2025-02-04",
                  "11": "6.35",
                  "12": "R$ / litro",
                  "13": "IPIRANGA",
                  "index": 2,
                  "key": 2
                },
                {
                  "0": "S",
                  "1": "PR",
                  "2": "FOZ DO IGUACU",
                  "3": "AUTO POSTO ITAMOGI LTDA",
                  "4": " 82.477.464/0001-58",
                  "5": "AVENIDA PARANÁ",
                  "6": "1291",
                  "7": "CENTRO",
                  "8": "85852-520",
                  "9": "ETANOL",
                  "10": "2025-02-11",
                  "11": "4.19",
                  "12": "R$ / litro",
                  "13": "RAIZEN",
                  "index": 3,
                  "key": 3
                },
                {
                  "0": "S",
                  "1": "SC",
                  "2": "BRUSQUE",
                  "3": "POSTO R&R SANTA RITA COMERCIO DE COMBUSTIVEIS LTDA",
                  "4": " 27.829.748/0001-58",
                  "5": "RUA SETE DE SETEMBRO",
                  "6": "188",
                  "7": "SANTA RITA",
                  "8": "88352-000",
                  "9": "GASOLINA",
                  "10": "2025-02-12",
                  "11": "6.56",
                  "12": "R$ / litro",
                  "13": "VIBRA",
                  "index": 4,
                  "key": 4
                }
              ],
              "schema": [
                {
                  "key": "0",
                  "name": "REGIAO",
                  "type": "string"
                },
                {
                  "key": "1",
                  "name": "ESTADO",
                  "type": "string"
                },
                {
                  "key": "2",
                  "name": "MUNICIPIO",
                  "type": "string"
                },
                {
                  "key": "3",
                  "name": "REVENDA",
                  "type": "string"
                },
                {
                  "key": "4",
                  "name": "CNPJ",
                  "type": "string"
                },
                {
                  "key": "5",
                  "name": "NOME",
                  "type": "string"
                },
                {
                  "key": "6",
                  "name": "NUMERO",
                  "type": "int"
                },
                {
                  "key": "7",
                  "name": "BAIRRO",
                  "type": "string"
                },
                {
                  "key": "8",
                  "name": "CEP",
                  "type": "string"
                },
                {
                  "key": "9",
                  "name": "PRODUTO",
                  "type": "string"
                },
                {
                  "key": "10",
                  "name": "DATA_COLETA",
                  "type": "date"
                },
                {
                  "key": "11",
                  "name": "VALOR_VENDA",
                  "type": "decimal"
                },
                {
                  "key": "12",
                  "name": "UNIDADE_MEDIDA",
                  "type": "string"
                },
                {
                  "key": "13",
                  "name": "BANDEIRA",
                  "type": "string"
                }
              ],
              "truncated": false
            },
            "wranglerEntryContext": {
              "dataframeType": "pyspark"
            }
          },
          "type": "Synapse.DataFrame"
        },
        "c734884a-ec7e-4be9-b825-88e3ef6eb880": {
          "persist_state": {
            "view": {
              "chartOptions": {
                "aggregationType": "sum",
                "binsNumber": 10,
                "categoryFieldKeys": [],
                "chartType": "bar",
                "isStacked": false,
                "seriesFieldKeys": [],
                "wordFrequency": "-1"
              },
              "tableOptions": {},
              "type": "details",
              "viewOptionsGroup": [
                {
                  "tabItems": [
                    {
                      "key": "0",
                      "name": "Table",
                      "options": {},
                      "type": "table"
                    }
                  ]
                }
              ]
            }
          },
          "sync_state": {
            "isSummary": false,
            "language": "scala",
            "table": {
              "rows": [
                {
                  "0": "SE",
                  "1": "MG",
                  "2": "IPATINGA",
                  "3": "POSTO GENTIL IPATINGA LTDA",
                  "4": " 05.120.495/0001-06",
                  "5": "AVENIDA JUSCELINO KUBITSCHEK",
                  "6": "1085",
                  "7": "JARDIM PANORAMA",
                  "8": "35164-245",
                  "9": "GASOLINA",
                  "10": "2025-02-03",
                  "11": "6.09",
                  "12": "R$ / litro",
                  "13": "BRANCA"
                },
                {
                  "0": "CO",
                  "1": "GO",
                  "2": "RIO VERDE",
                  "3": "POSTO MORADA DO SOL LTDA",
                  "4": " 01.477.306/0001-04",
                  "5": "AVENIDA PRESIDENTE VARGAS",
                  "6": "S/N",
                  "7": "ODILIA",
                  "8": "75908-844",
                  "9": "ETANOL",
                  "10": "2025-02-12",
                  "11": "4.09",
                  "12": "R$ / litro",
                  "13": "BRANCA"
                },
                {
                  "0": "S",
                  "1": "RS",
                  "2": "SANTA ROSA",
                  "3": "POSTO DE COMBUSTIVEIS VACCARI LTDA",
                  "4": " 87.687.489/0001-08",
                  "5": "AVENIDA RIO BRANCO",
                  "6": "26",
                  "7": "CENTRO",
                  "8": "98780-702",
                  "9": "GASOLINA",
                  "10": "2025-02-04",
                  "11": "6.35",
                  "12": "R$ / litro",
                  "13": "IPIRANGA"
                },
                {
                  "0": "S",
                  "1": "PR",
                  "2": "FOZ DO IGUACU",
                  "3": "AUTO POSTO ITAMOGI LTDA",
                  "4": " 82.477.464/0001-58",
                  "5": "AVENIDA PARANÁ",
                  "6": "1291",
                  "7": "CENTRO",
                  "8": "85852-520",
                  "9": "ETANOL",
                  "10": "2025-02-11",
                  "11": "4.19",
                  "12": "R$ / litro",
                  "13": "RAIZEN"
                },
                {
                  "0": "S",
                  "1": "SC",
                  "2": "BRUSQUE",
                  "3": "POSTO R&R SANTA RITA COMERCIO DE COMBUSTIVEIS LTDA",
                  "4": " 27.829.748/0001-58",
                  "5": "RUA SETE DE SETEMBRO",
                  "6": "188",
                  "7": "SANTA RITA",
                  "8": "88352-000",
                  "9": "GASOLINA",
                  "10": "2025-02-12",
                  "11": "6.56",
                  "12": "R$ / litro",
                  "13": "VIBRA"
                }
              ],
              "schema": [
                {
                  "key": "0",
                  "name": "REGIAO",
                  "type": "string"
                },
                {
                  "key": "1",
                  "name": "ESTADO",
                  "type": "string"
                },
                {
                  "key": "2",
                  "name": "MUNICIPIO",
                  "type": "string"
                },
                {
                  "key": "3",
                  "name": "REVENDA",
                  "type": "string"
                },
                {
                  "key": "4",
                  "name": "CNPJ",
                  "type": "string"
                },
                {
                  "key": "5",
                  "name": "NOME",
                  "type": "string"
                },
                {
                  "key": "6",
                  "name": "NUMERO",
                  "type": "string"
                },
                {
                  "key": "7",
                  "name": "BAIRRO",
                  "type": "string"
                },
                {
                  "key": "8",
                  "name": "CEP",
                  "type": "string"
                },
                {
                  "key": "9",
                  "name": "PRODUTO",
                  "type": "string"
                },
                {
                  "key": "10",
                  "name": "DATA_COLETA",
                  "type": "date"
                },
                {
                  "key": "11",
                  "name": "VALOR_VENDA",
                  "type": "decimal"
                },
                {
                  "key": "12",
                  "name": "UNIDADE_MEDIDA",
                  "type": "string"
                },
                {
                  "key": "13",
                  "name": "BANDEIRA",
                  "type": "string"
                }
              ],
              "truncated": false
            },
            "wranglerEntryContext": {
              "dataframeType": "pyspark"
            }
          },
          "type": "Synapse.DataFrame"
        },
        "dc59b121-eb8b-4307-a8e2-ffa5e484c7bc": {
          "persist_state": {
            "view": {
              "chartOptions": {
                "aggregationType": "sum",
                "binsNumber": 10,
                "categoryFieldKeys": [],
                "chartType": "bar",
                "isStacked": false,
                "seriesFieldKeys": [],
                "wordFrequency": "-1"
              },
              "tableOptions": {},
              "type": "details",
              "viewOptionsGroup": [
                {
                  "tabItems": [
                    {
                      "key": "0",
                      "name": "Table",
                      "options": {},
                      "type": "table"
                    }
                  ]
                }
              ]
            }
          },
          "sync_state": {
            "isSummary": false,
            "language": "scala",
            "table": {
              "rows": [
                {
                  "0": "S",
                  "1": "RS",
                  "2": "BAGE",
                  "3": "ABREU FLORES & PEREIRA LTDA",
                  "4": " 14.131.443/0003-98",
                  "5": "AVENIDA EMILIO GUILAIN",
                  "6": "686",
                  "7": "ESTRELA D'ALVA",
                  "8": "96415-100",
                  "9": "GASOLINA",
                  "10": "15/01/2025",
                  "11": "6.98",
                  "12": "R$ / litro",
                  "13": "VIBRA"
                },
                {
                  "0": "SE",
                  "1": "SP",
                  "2": "CAMPINAS",
                  "3": "NOVA CAMPINAS COMERCIO DE COMBUSTIVEIS LTDA",
                  "4": " 04.496.759/0001-68",
                  "5": "AVENIDA ENGENHEIRO CARLOS STEVERSON",
                  "6": "292",
                  "7": "NOVA CAMPINAS",
                  "8": "13092-310",
                  "9": "ETANOL",
                  "10": "15/01/2025",
                  "11": "4.19",
                  "12": "R$ / litro",
                  "13": "RAIZEN"
                }
              ],
              "schema": [
                {
                  "key": "0",
                  "name": "Regiao",
                  "type": "string"
                },
                {
                  "key": "1",
                  "name": "Estado",
                  "type": "string"
                },
                {
                  "key": "2",
                  "name": "Municipio",
                  "type": "string"
                },
                {
                  "key": "3",
                  "name": "Revenda",
                  "type": "string"
                },
                {
                  "key": "4",
                  "name": "CNPJ",
                  "type": "string"
                },
                {
                  "key": "5",
                  "name": "Nome",
                  "type": "string"
                },
                {
                  "key": "6",
                  "name": "Numero",
                  "type": "string"
                },
                {
                  "key": "7",
                  "name": "Bairro",
                  "type": "string"
                },
                {
                  "key": "8",
                  "name": "Cep",
                  "type": "string"
                },
                {
                  "key": "9",
                  "name": "Produto",
                  "type": "string"
                },
                {
                  "key": "10",
                  "name": "Data_Coleta",
                  "type": "string"
                },
                {
                  "key": "11",
                  "name": "Valor_Venda",
                  "type": "float"
                },
                {
                  "key": "12",
                  "name": "Unidade_Medida",
                  "type": "string"
                },
                {
                  "key": "13",
                  "name": "Bandeira",
                  "type": "string"
                }
              ],
              "truncated": false
            },
            "wranglerEntryContext": {
              "dataframeType": "pyspark"
            }
          },
          "type": "Synapse.DataFrame"
        },
        "e11a0d27-0d99-42b6-adca-163a5b93aa0c": {
          "persist_state": {
            "view": {
              "chartOptions": {
                "aggregationType": "sum",
                "binsNumber": 10,
                "categoryFieldKeys": [],
                "chartType": "bar",
                "isStacked": false,
                "seriesFieldKeys": [],
                "wordFrequency": "-1"
              },
              "tableOptions": {},
              "type": "details",
              "viewOptionsGroup": [
                {
                  "tabItems": [
                    {
                      "key": "0",
                      "name": "Table",
                      "options": {},
                      "type": "table"
                    }
                  ]
                }
              ]
            }
          },
          "sync_state": {
            "isSummary": false,
            "language": "scala",
            "table": {
              "rows": [
                {
                  "0": "S",
                  "1": "RS",
                  "2": "BAGE",
                  "3": "ABREU FLORES & PEREIRA LTDA",
                  "4": " 14.131.443/0003-98",
                  "5": "AVENIDA EMILIO GUILAIN",
                  "6": "686",
                  "7": "ESTRELA D'ALVA",
                  "8": "96415-100",
                  "9": "GASOLINA",
                  "10": "2025-01-15",
                  "11": "6.98",
                  "12": "R$ / litro",
                  "13": "VIBRA"
                },
                {
                  "0": "SE",
                  "1": "SP",
                  "2": "CAMPINAS",
                  "3": "NOVA CAMPINAS COMERCIO DE COMBUSTIVEIS LTDA",
                  "4": " 04.496.759/0001-68",
                  "5": "AVENIDA ENGENHEIRO CARLOS STEVERSON",
                  "6": "292",
                  "7": "NOVA CAMPINAS",
                  "8": "13092-310",
                  "9": "ETANOL",
                  "10": "2025-01-15",
                  "11": "4.19",
                  "12": "R$ / litro",
                  "13": "RAIZEN"
                },
                {
                  "0": "SE",
                  "1": "MG",
                  "2": "JOAO PINHEIRO",
                  "3": "AUTO POSTO RDG LTDA",
                  "4": " 08.418.219/0001-17",
                  "5": "RODOVIA BR 040",
                  "6": "S/N",
                  "7": "MARIA JOSE DE PAULA",
                  "8": "38770-000",
                  "9": "GASOLINA",
                  "10": "2025-01-06",
                  "11": "6.09",
                  "12": "R$ / litro",
                  "13": "VIBRA"
                },
                {
                  "0": "SE",
                  "1": "SP",
                  "2": "MOGI DAS CRUZES",
                  "3": "POSTO DE SERVICOS TIGRE DO VALE LTDA",
                  "4": " 01.519.037/0001-93",
                  "5": "RODOVIA PEDRO EROLES",
                  "6": "600",
                  "7": "JARDIM ARACY",
                  "8": "08770-490",
                  "9": "ETANOL",
                  "10": "2025-01-15",
                  "11": "4.09",
                  "12": "R$ / litro",
                  "13": "RAIZEN"
                },
                {
                  "0": "S",
                  "1": "RS",
                  "2": "BAGE",
                  "3": "L. CASTRO COMERCIO DE COMBUSTIVEIS LTDA",
                  "4": " 05.799.373/0002-79",
                  "5": "RUA EMÍLIO GUILAIN",
                  "6": "673",
                  "7": "CENTRO",
                  "8": "96415-100",
                  "9": "GASOLINA",
                  "10": "2025-01-15",
                  "11": "7.15",
                  "12": "R$ / litro",
                  "13": "IPIRANGA"
                }
              ],
              "schema": [
                {
                  "key": "0",
                  "name": "REGIAO",
                  "type": "string"
                },
                {
                  "key": "1",
                  "name": "ESTADO",
                  "type": "string"
                },
                {
                  "key": "2",
                  "name": "MUNICIPIO",
                  "type": "string"
                },
                {
                  "key": "3",
                  "name": "REVENDA",
                  "type": "string"
                },
                {
                  "key": "4",
                  "name": "CNPJ",
                  "type": "string"
                },
                {
                  "key": "5",
                  "name": "NOME",
                  "type": "string"
                },
                {
                  "key": "6",
                  "name": "NUMERO",
                  "type": "string"
                },
                {
                  "key": "7",
                  "name": "BAIRRO",
                  "type": "string"
                },
                {
                  "key": "8",
                  "name": "CEP",
                  "type": "string"
                },
                {
                  "key": "9",
                  "name": "PRODUTO",
                  "type": "string"
                },
                {
                  "key": "10",
                  "name": "DATA_COLETA",
                  "type": "date"
                },
                {
                  "key": "11",
                  "name": "VALOR_VENDA",
                  "type": "decimal"
                },
                {
                  "key": "12",
                  "name": "UNIDADE_MEDIDA",
                  "type": "string"
                },
                {
                  "key": "13",
                  "name": "BANDEIRA",
                  "type": "string"
                }
              ],
              "truncated": false
            },
            "wranglerEntryContext": {
              "dataframeType": "pyspark"
            }
          },
          "type": "Synapse.DataFrame"
        },
        "faf8a083-c876-4615-9dc9-28585f5a43d8": {
          "persist_state": {
            "view": {
              "chartOptions": {
                "aggregationType": "sum",
                "binsNumber": 10,
                "categoryFieldKeys": [],
                "chartType": "bar",
                "isStacked": false,
                "seriesFieldKeys": [],
                "wordFrequency": "-1"
              },
              "tableOptions": {},
              "type": "details",
              "viewOptionsGroup": [
                {
                  "tabItems": [
                    {
                      "key": "0",
                      "name": "Table",
                      "options": {},
                      "type": "table"
                    }
                  ]
                }
              ]
            }
          },
          "sync_state": {
            "isSummary": false,
            "language": "scala",
            "table": {
              "rows": [
                {
                  "0": "SE",
                  "1": "SP",
                  "2": "LINS",
                  "3": "AUTO POSTO NSQP . LINS LTDA",
                  "4": " 05.117.475/0001-86",
                  "5": "RUA VOLUNTARIO VITORIANO BORGES",
                  "6": "68",
                  "8": "CENTRO",
                  "9": "16400-040",
                  "10": "ETANOL",
                  "11": "13/03/2025",
                  "12": "3,84",
                  "14": "R$ / litro",
                  "15": "IPIRANGA"
                },
                {
                  "0": "SE",
                  "1": "SP",
                  "2": "VINHEDO",
                  "3": "AUTO POSTO PRACINHA LTDA.",
                  "4": " 04.683.224/0001-04",
                  "5": "PRACA DOUTOR OLAVO GUIMARAES",
                  "6": "110",
                  "8": "JARDIM ROSA",
                  "9": "13280-001",
                  "10": "ETANOL",
                  "11": "10/03/2025",
                  "12": "4,09",
                  "14": "R$ / litro",
                  "15": "BRANCA"
                },
                {
                  "0": "S",
                  "1": "PR",
                  "2": "GUARAPUAVA",
                  "3": "AUTO POSTO BIN LTDA",
                  "4": " 05.362.805/0001-07",
                  "5": "RODOVIA BR 277",
                  "6": "S/N",
                  "7": "KM 349",
                  "8": "JARDIM AEROPORTO",
                  "9": "85100-970",
                  "10": "GASOLINA ADITIVADA",
                  "11": "03/03/2025",
                  "12": "6,69",
                  "14": "R$ / litro",
                  "15": "VIBRA"
                },
                {
                  "0": "SE",
                  "1": "SP",
                  "2": "JALES",
                  "3": "AUTO POSTO PUPIM LTDA",
                  "4": " 50.547.223/0001-41",
                  "5": "AVENIDA JOAO AMADEU",
                  "6": "2643",
                  "8": "CENTRO",
                  "9": "15700-080",
                  "10": "GASOLINA ADITIVADA",
                  "11": "12/03/2025",
                  "12": "6,29",
                  "14": "R$ / litro",
                  "15": "BRANCA"
                },
                {
                  "0": "S",
                  "1": "SC",
                  "2": "CRICIUMA",
                  "3": "PELLEGRIN & CIA LTDA",
                  "4": " 04.975.903/0001-49",
                  "5": "AVENIDA PROFESSOR NICOLAU DESTRI NAPOLEAO",
                  "6": "365",
                  "8": "JARDIM ANGELICA",
                  "9": "88804-740",
                  "10": "ETANOL",
                  "11": "03/03/2025",
                  "12": "4,79",
                  "14": "R$ / litro",
                  "15": "BRANCA"
                }
              ],
              "schema": [
                {
                  "key": "0",
                  "name": "Regiao - Sigla",
                  "type": "string"
                },
                {
                  "key": "1",
                  "name": "Estado - Sigla",
                  "type": "string"
                },
                {
                  "key": "2",
                  "name": "Municipio",
                  "type": "string"
                },
                {
                  "key": "3",
                  "name": "Revenda",
                  "type": "string"
                },
                {
                  "key": "4",
                  "name": "CNPJ da Revenda",
                  "type": "string"
                },
                {
                  "key": "5",
                  "name": "Nome da Rua",
                  "type": "string"
                },
                {
                  "key": "6",
                  "name": "Numero Rua",
                  "type": "string"
                },
                {
                  "key": "7",
                  "name": "Complemento",
                  "type": "string"
                },
                {
                  "key": "8",
                  "name": "Bairro",
                  "type": "string"
                },
                {
                  "key": "9",
                  "name": "Cep",
                  "type": "string"
                },
                {
                  "key": "10",
                  "name": "Produto",
                  "type": "string"
                },
                {
                  "key": "11",
                  "name": "Data da Coleta",
                  "type": "string"
                },
                {
                  "key": "12",
                  "name": "Valor de Venda",
                  "type": "string"
                },
                {
                  "key": "13",
                  "name": "Valor de Compra",
                  "type": "string"
                },
                {
                  "key": "14",
                  "name": "Unidade de Medida",
                  "type": "string"
                },
                {
                  "key": "15",
                  "name": "Bandeira",
                  "type": "string"
                }
              ],
              "truncated": false
            },
            "wranglerEntryContext": {
              "dataframeType": "pyspark"
            }
          },
          "type": "Synapse.DataFrame"
        }
      },
      "version": "0.1"
    },
    "colab": {
      "provenance": [],
      "include_colab_link": true
    }
  },
  "nbformat": 4,
  "nbformat_minor": 5
}